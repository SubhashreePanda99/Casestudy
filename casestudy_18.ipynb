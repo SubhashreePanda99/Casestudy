{
 "cells": [
  {
   "cell_type": "code",
   "execution_count": 298,
   "metadata": {},
   "outputs": [],
   "source": [
    "import numpy as np\n",
    "import pandas as pd\n",
    "import matplotlib.pyplot as plt\n",
    "import seaborn as sns\n",
    "import warnings\n",
    "warnings.filterwarnings('ignore')"
   ]
  },
  {
   "cell_type": "code",
   "execution_count": 299,
   "metadata": {},
   "outputs": [],
   "source": [
    "train=pd.read_csv('train (1).csv')"
   ]
  },
  {
   "cell_type": "code",
   "execution_count": 300,
   "metadata": {},
   "outputs": [
    {
     "data": {
      "text/html": [
       "<div>\n",
       "<style scoped>\n",
       "    .dataframe tbody tr th:only-of-type {\n",
       "        vertical-align: middle;\n",
       "    }\n",
       "\n",
       "    .dataframe tbody tr th {\n",
       "        vertical-align: top;\n",
       "    }\n",
       "\n",
       "    .dataframe thead th {\n",
       "        text-align: right;\n",
       "    }\n",
       "</style>\n",
       "<table border=\"1\" class=\"dataframe\">\n",
       "  <thead>\n",
       "    <tr style=\"text-align: right;\">\n",
       "      <th></th>\n",
       "      <th>Year</th>\n",
       "      <th>Month</th>\n",
       "      <th>ProductCategory</th>\n",
       "      <th>Sales(In ThousandDollars)</th>\n",
       "      <th>dtype</th>\n",
       "    </tr>\n",
       "  </thead>\n",
       "  <tbody>\n",
       "    <tr>\n",
       "      <th>0</th>\n",
       "      <td>2009</td>\n",
       "      <td>1</td>\n",
       "      <td>WomenClothing</td>\n",
       "      <td>1755.0</td>\n",
       "      <td>train</td>\n",
       "    </tr>\n",
       "    <tr>\n",
       "      <th>1</th>\n",
       "      <td>2009</td>\n",
       "      <td>1</td>\n",
       "      <td>MenClothing</td>\n",
       "      <td>524.0</td>\n",
       "      <td>train</td>\n",
       "    </tr>\n",
       "    <tr>\n",
       "      <th>2</th>\n",
       "      <td>2009</td>\n",
       "      <td>1</td>\n",
       "      <td>OtherClothing</td>\n",
       "      <td>936.0</td>\n",
       "      <td>train</td>\n",
       "    </tr>\n",
       "    <tr>\n",
       "      <th>3</th>\n",
       "      <td>2009</td>\n",
       "      <td>2</td>\n",
       "      <td>WomenClothing</td>\n",
       "      <td>1729.0</td>\n",
       "      <td>train</td>\n",
       "    </tr>\n",
       "    <tr>\n",
       "      <th>4</th>\n",
       "      <td>2009</td>\n",
       "      <td>2</td>\n",
       "      <td>MenClothing</td>\n",
       "      <td>496.0</td>\n",
       "      <td>train</td>\n",
       "    </tr>\n",
       "  </tbody>\n",
       "</table>\n",
       "</div>"
      ],
      "text/plain": [
       "   Year  Month ProductCategory  Sales(In ThousandDollars)  dtype\n",
       "0  2009      1   WomenClothing                     1755.0  train\n",
       "1  2009      1     MenClothing                      524.0  train\n",
       "2  2009      1   OtherClothing                      936.0  train\n",
       "3  2009      2   WomenClothing                     1729.0  train\n",
       "4  2009      2     MenClothing                      496.0  train"
      ]
     },
     "execution_count": 300,
     "metadata": {},
     "output_type": "execute_result"
    }
   ],
   "source": [
    "train['dtype']='train'\n",
    "train.head()"
   ]
  },
  {
   "cell_type": "code",
   "execution_count": 301,
   "metadata": {},
   "outputs": [],
   "source": [
    "test=pd.read_csv('test (1).csv')"
   ]
  },
  {
   "cell_type": "code",
   "execution_count": 302,
   "metadata": {},
   "outputs": [],
   "source": [
    "test['dtype']='test'"
   ]
  },
  {
   "cell_type": "code",
   "execution_count": 303,
   "metadata": {},
   "outputs": [
    {
     "data": {
      "text/html": [
       "<div>\n",
       "<style scoped>\n",
       "    .dataframe tbody tr th:only-of-type {\n",
       "        vertical-align: middle;\n",
       "    }\n",
       "\n",
       "    .dataframe tbody tr th {\n",
       "        vertical-align: top;\n",
       "    }\n",
       "\n",
       "    .dataframe thead th {\n",
       "        text-align: right;\n",
       "    }\n",
       "</style>\n",
       "<table border=\"1\" class=\"dataframe\">\n",
       "  <thead>\n",
       "    <tr style=\"text-align: right;\">\n",
       "      <th></th>\n",
       "      <th>Year</th>\n",
       "      <th>Month</th>\n",
       "      <th>ProductCategory</th>\n",
       "      <th>Sales(In ThousandDollars)</th>\n",
       "      <th>dtype</th>\n",
       "    </tr>\n",
       "  </thead>\n",
       "  <tbody>\n",
       "    <tr>\n",
       "      <th>0</th>\n",
       "      <td>2009</td>\n",
       "      <td>1</td>\n",
       "      <td>WomenClothing</td>\n",
       "      <td>1755.0</td>\n",
       "      <td>train</td>\n",
       "    </tr>\n",
       "    <tr>\n",
       "      <th>1</th>\n",
       "      <td>2009</td>\n",
       "      <td>1</td>\n",
       "      <td>MenClothing</td>\n",
       "      <td>524.0</td>\n",
       "      <td>train</td>\n",
       "    </tr>\n",
       "    <tr>\n",
       "      <th>2</th>\n",
       "      <td>2009</td>\n",
       "      <td>1</td>\n",
       "      <td>OtherClothing</td>\n",
       "      <td>936.0</td>\n",
       "      <td>train</td>\n",
       "    </tr>\n",
       "    <tr>\n",
       "      <th>3</th>\n",
       "      <td>2009</td>\n",
       "      <td>2</td>\n",
       "      <td>WomenClothing</td>\n",
       "      <td>1729.0</td>\n",
       "      <td>train</td>\n",
       "    </tr>\n",
       "    <tr>\n",
       "      <th>4</th>\n",
       "      <td>2009</td>\n",
       "      <td>2</td>\n",
       "      <td>MenClothing</td>\n",
       "      <td>496.0</td>\n",
       "      <td>train</td>\n",
       "    </tr>\n",
       "  </tbody>\n",
       "</table>\n",
       "</div>"
      ],
      "text/plain": [
       "   Year  Month ProductCategory  Sales(In ThousandDollars)  dtype\n",
       "0  2009      1   WomenClothing                     1755.0  train\n",
       "1  2009      1     MenClothing                      524.0  train\n",
       "2  2009      1   OtherClothing                      936.0  train\n",
       "3  2009      2   WomenClothing                     1729.0  train\n",
       "4  2009      2     MenClothing                      496.0  train"
      ]
     },
     "execution_count": 303,
     "metadata": {},
     "output_type": "execute_result"
    }
   ],
   "source": [
    "data=pd.concat([train,test],axis=0)\n",
    "data.head()"
   ]
  },
  {
   "cell_type": "code",
   "execution_count": 304,
   "metadata": {},
   "outputs": [],
   "source": [
    "#data=pd.get_dummies(['ProductCategory'],drop_first=True)"
   ]
  },
  {
   "cell_type": "code",
   "execution_count": 305,
   "metadata": {},
   "outputs": [],
   "source": [
    "macro=pd.read_excel('macro_economic.xlsx')"
   ]
  },
  {
   "cell_type": "code",
   "execution_count": 306,
   "metadata": {},
   "outputs": [],
   "source": [
    "weath=pd.read_excel('weather1.xlsx')"
   ]
  },
  {
   "cell_type": "code",
   "execution_count": 307,
   "metadata": {},
   "outputs": [
    {
     "name": "stdout",
     "output_type": "stream",
     "text": [
      "Columns of train: Index(['Year', 'Month', 'ProductCategory', 'Sales(In ThousandDollars)',\n",
      "       'dtype'],\n",
      "      dtype='object')\n",
      "Columns of test: Index(['Year', 'Month', 'ProductCategory', 'Sales(In ThousandDollars)',\n",
      "       'dtype'],\n",
      "      dtype='object')\n",
      "Columns of macro: Index(['Year-Month', 'Monthly Nominal GDP Index (inMillion$)',\n",
      "       'Monthly Real GDP Index (inMillion$)', 'CPI', 'PartyInPower',\n",
      "       'unemployment rate', 'CommercialBankInterestRateonCreditCardPlans',\n",
      "       'Finance Rate on Personal Loans at Commercial Banks, 24 Month Loan',\n",
      "       'Earnings or wages  in dollars per hour',\n",
      "       'AdvertisingExpenses (in Thousand Dollars)',\n",
      "       'Cotton Monthly Price - US cents per Pound(lbs)', 'Change(in%)',\n",
      "       'Average upland planted(million acres)',\n",
      "       'Average upland harvested(million acres)', 'yieldperharvested acre',\n",
      "       'Production (in  480-lb netweright in million bales)',\n",
      "       'Mill use  (in  480-lb netweright in million bales)', 'Exports'],\n",
      "      dtype='object')\n",
      "Columns of weather: Index(['Year', 'Month', 'Day', 'Temp high (°C)', 'Temp avg (°C)',\n",
      "       'Temp low (°C)', 'Dew Point high (°C)', 'Dew Point avg (°C)',\n",
      "       'Dew Point low (°C)', 'Humidity (%) high', 'Humidity (%) avg',\n",
      "       'Humidity (%) low', 'Sea Level Press. (hPa) high',\n",
      "       'Sea Level Press. (hPa) avg', 'Sea Level Press. (hPa) low',\n",
      "       'Visibility (km) high', 'Visibility (km) avg', 'Visibility (km) low',\n",
      "       'Wind (km/h) low', 'Wind (km/h) avg', 'Wind (km/h) high',\n",
      "       'Precip. (mm) sum', 'WeatherEvent'],\n",
      "      dtype='object')\n"
     ]
    }
   ],
   "source": [
    "print('Columns of train:',train.columns)\n",
    "print('Columns of test:',test.columns)\n",
    "print('Columns of macro:',macro.columns)\n",
    "print('Columns of weather:',weath.columns)"
   ]
  },
  {
   "cell_type": "code",
   "execution_count": 308,
   "metadata": {},
   "outputs": [],
   "source": [
    "macro['Year'] = macro['Year-Month'].str[:4].astype(int)\n",
    "macro['Month'] = macro['Year-Month'].str[-3:].replace({'Jan':1,'Feb':2,'Mar':3,'Apr':4,'May':5,'Jun':6,'Jul':7,'Aug':8,\n",
    "                                'Sep':9,'Oct':10,'Nov':11,'Dec':12})"
   ]
  },
  {
   "cell_type": "code",
   "execution_count": 309,
   "metadata": {},
   "outputs": [],
   "source": [
    "macro=macro.drop(['Year-Month','AdvertisingExpenses (in Thousand Dollars)','PartyInPower'],axis=1)"
   ]
  },
  {
   "cell_type": "code",
   "execution_count": 310,
   "metadata": {},
   "outputs": [
    {
     "data": {
      "text/plain": [
       "Monthly Nominal GDP Index (inMillion$)                               0\n",
       "Monthly Real GDP Index (inMillion$)                                  0\n",
       "CPI                                                                  0\n",
       "unemployment rate                                                    0\n",
       "CommercialBankInterestRateonCreditCardPlans                          0\n",
       "Finance Rate on Personal Loans at Commercial Banks, 24 Month Loan    0\n",
       "Earnings or wages  in dollars per hour                               0\n",
       "Cotton Monthly Price - US cents per Pound(lbs)                       0\n",
       "Change(in%)                                                          0\n",
       "Average upland planted(million acres)                                0\n",
       "Average upland harvested(million acres)                              0\n",
       "yieldperharvested acre                                               0\n",
       "Production (in  480-lb netweright in million bales)                  0\n",
       "Mill use  (in  480-lb netweright in million bales)                   0\n",
       "Exports                                                              0\n",
       "Year                                                                 0\n",
       "Month                                                                0\n",
       "dtype: int64"
      ]
     },
     "execution_count": 310,
     "metadata": {},
     "output_type": "execute_result"
    }
   ],
   "source": [
    "macro.isnull().sum()"
   ]
  },
  {
   "cell_type": "code",
   "execution_count": 311,
   "metadata": {},
   "outputs": [
    {
     "name": "stdout",
     "output_type": "stream",
     "text": [
      "<class 'pandas.core.frame.DataFrame'>\n",
      "RangeIndex: 2922 entries, 0 to 2921\n",
      "Data columns (total 23 columns):\n",
      "Year                           2922 non-null int64\n",
      "Month                          2922 non-null object\n",
      "Day                            2922 non-null int64\n",
      "Temp high (°C)                 2922 non-null object\n",
      "Temp avg (°C)                  2922 non-null object\n",
      "Temp low (°C)                  2922 non-null object\n",
      "Dew Point high (°C)            2922 non-null object\n",
      "Dew Point avg (°C)             2922 non-null object\n",
      "Dew Point low (°C)             2922 non-null object\n",
      "Humidity (%) high              2922 non-null object\n",
      "Humidity (%) avg               2922 non-null object\n",
      "Humidity (%) low               2922 non-null object\n",
      "Sea Level Press. (hPa) high    2922 non-null object\n",
      "Sea Level Press. (hPa) avg     2922 non-null object\n",
      "Sea Level Press. (hPa) low     2922 non-null object\n",
      "Visibility (km) high           2922 non-null object\n",
      "Visibility (km) avg            2922 non-null object\n",
      "Visibility (km) low            2922 non-null object\n",
      "Wind (km/h) low                2922 non-null object\n",
      "Wind (km/h) avg                2922 non-null object\n",
      "Wind (km/h) high               2922 non-null object\n",
      "Precip. (mm) sum               2922 non-null object\n",
      "WeatherEvent                   1014 non-null object\n",
      "dtypes: int64(2), object(21)\n",
      "memory usage: 525.1+ KB\n"
     ]
    }
   ],
   "source": [
    "weath.info()"
   ]
  },
  {
   "cell_type": "code",
   "execution_count": 312,
   "metadata": {},
   "outputs": [
    {
     "data": {
      "text/plain": [
       "Mar    248\n",
       "Dec    248\n",
       "Jan    248\n",
       "May    248\n",
       "Jul    248\n",
       "Aug    248\n",
       "Oct    248\n",
       "Apr    240\n",
       "Sep    240\n",
       "Nov    240\n",
       "Jun    240\n",
       "Feb    226\n",
       "Name: Month, dtype: int64"
      ]
     },
     "execution_count": 312,
     "metadata": {},
     "output_type": "execute_result"
    }
   ],
   "source": [
    "weath['Month'].value_counts()"
   ]
  },
  {
   "cell_type": "code",
   "execution_count": 313,
   "metadata": {},
   "outputs": [
    {
     "data": {
      "text/plain": [
       "Year                              0\n",
       "Month                             0\n",
       "Day                               0\n",
       "Temp high (°C)                    0\n",
       "Temp avg (°C)                     0\n",
       "Temp low (°C)                     0\n",
       "Dew Point high (°C)               0\n",
       "Dew Point avg (°C)                0\n",
       "Dew Point low (°C)                0\n",
       "Humidity (%) high                 0\n",
       "Humidity (%) avg                  0\n",
       "Humidity (%) low                  0\n",
       "Sea Level Press. (hPa) high       0\n",
       "Sea Level Press. (hPa) avg        0\n",
       "Sea Level Press. (hPa) low        0\n",
       "Visibility (km) high              0\n",
       "Visibility (km) avg               0\n",
       "Visibility (km) low               0\n",
       "Wind (km/h) low                   0\n",
       "Wind (km/h) avg                   0\n",
       "Wind (km/h) high                  0\n",
       "Precip. (mm) sum                  0\n",
       "WeatherEvent                   1908\n",
       "dtype: int64"
      ]
     },
     "execution_count": 313,
     "metadata": {},
     "output_type": "execute_result"
    }
   ],
   "source": [
    "weath.isnull().sum()"
   ]
  },
  {
   "cell_type": "code",
   "execution_count": 314,
   "metadata": {
    "cell_style": "split",
    "scrolled": true
   },
   "outputs": [
    {
     "data": {
      "text/plain": [
       "Rain                 685\n",
       "Fog , Rain           156\n",
       "Snow                  72\n",
       "Fog , Snow            39\n",
       "Rain , Snow           27\n",
       "Fog , Rain , Snow     22\n",
       "Fog                   12\n",
       "Thunderstorm           1\n",
       "Name: WeatherEvent, dtype: int64"
      ]
     },
     "execution_count": 314,
     "metadata": {},
     "output_type": "execute_result"
    }
   ],
   "source": [
    "weath['WeatherEvent'].value_counts()"
   ]
  },
  {
   "cell_type": "code",
   "execution_count": 315,
   "metadata": {
    "cell_style": "split"
   },
   "outputs": [
    {
     "data": {
      "text/plain": [
       "0         1754\n",
       "T          205\n",
       "0.25        86\n",
       "0.51        57\n",
       "0.76        45\n",
       "1.02        38\n",
       "1.27        36\n",
       "1.52        36\n",
       "2.29        27\n",
       "1.78        22\n",
       "4.83        19\n",
       "3.3         16\n",
       "4.06        15\n",
       "2.79        15\n",
       "2.03        14\n",
       "3.56        14\n",
       "3.81        13\n",
       "3.05        12\n",
       "6.35        11\n",
       "12.7        10\n",
       "5.59        10\n",
       "7.62        10\n",
       "8.89        10\n",
       "7.37        10\n",
       "4.57        10\n",
       "8.38        10\n",
       "11.43       10\n",
       "6.1          9\n",
       "10.16        8\n",
       "5.08         8\n",
       "          ... \n",
       "21.84        1\n",
       "21.08        1\n",
       "46.23        1\n",
       "23.88        1\n",
       "29.97        1\n",
       "27.94        1\n",
       "126.24       1\n",
       "36.07        1\n",
       "51.31        1\n",
       "73.15        1\n",
       "42.67        1\n",
       "58.42        1\n",
       "33.02        1\n",
       "17.27        1\n",
       "64.52        1\n",
       "66.29        1\n",
       "39.62        1\n",
       "76.71        1\n",
       "81.79        1\n",
       "14.73        1\n",
       "38.35        1\n",
       "98.04        1\n",
       "20.57        1\n",
       "101.35       1\n",
       "105.66       1\n",
       "sum          1\n",
       "49.53        1\n",
       "36.83        1\n",
       "45.72        1\n",
       "20.83        1\n",
       "Name: Precip. (mm) sum, Length: 179, dtype: int64"
      ]
     },
     "execution_count": 315,
     "metadata": {},
     "output_type": "execute_result"
    }
   ],
   "source": [
    "weath['Precip.\\xa0(mm) sum'].value_counts()"
   ]
  },
  {
   "cell_type": "code",
   "execution_count": 316,
   "metadata": {},
   "outputs": [
    {
     "name": "stdout",
     "output_type": "stream",
     "text": [
      "---- Year ---\n",
      "2016    366\n",
      "2012    366\n",
      "2015    365\n",
      "2013    365\n",
      "2011    365\n",
      "2009    365\n",
      "2014    365\n",
      "2010    365\n",
      "Name: Year, dtype: int64\n",
      "---- Month ---\n",
      "Mar    248\n",
      "Dec    248\n",
      "Jan    248\n",
      "May    248\n",
      "Jul    248\n",
      "Aug    248\n",
      "Oct    248\n",
      "Apr    240\n",
      "Sep    240\n",
      "Nov    240\n",
      "Jun    240\n",
      "Feb    226\n",
      "Name: Month, dtype: int64\n",
      "---- Day ---\n",
      "1     96\n",
      "28    96\n",
      "4     96\n",
      "6     96\n",
      "8     96\n",
      "10    96\n",
      "12    96\n",
      "14    96\n",
      "16    96\n",
      "18    96\n",
      "20    96\n",
      "22    96\n",
      "24    96\n",
      "26    96\n",
      "2     96\n",
      "3     96\n",
      "5     96\n",
      "7     96\n",
      "9     96\n",
      "11    96\n",
      "13    96\n",
      "15    96\n",
      "17    96\n",
      "19    96\n",
      "21    96\n",
      "23    96\n",
      "25    96\n",
      "27    96\n",
      "29    90\n",
      "30    88\n",
      "31    56\n",
      "Name: Day, dtype: int64\n",
      "---- Temp high (°C) ---\n",
      "28      140\n",
      "27      124\n",
      "29      114\n",
      "22      112\n",
      "18      110\n",
      "26      109\n",
      "23      104\n",
      "21      100\n",
      "12       98\n",
      "31       97\n",
      "14       96\n",
      "8        92\n",
      "17       90\n",
      "19       89\n",
      "7        88\n",
      "24       87\n",
      "4        86\n",
      "16       86\n",
      "13       84\n",
      "32       83\n",
      "11       80\n",
      "6        73\n",
      "3        70\n",
      "9        66\n",
      "2        59\n",
      "30       54\n",
      "10       53\n",
      "1        52\n",
      "15       50\n",
      "33       50\n",
      "-1       44\n",
      "25       42\n",
      "20       42\n",
      "34       35\n",
      "5        28\n",
      "0        28\n",
      "-3       21\n",
      "-2       20\n",
      "36       14\n",
      "-6       12\n",
      "-4        8\n",
      "35        7\n",
      "-7        6\n",
      "-5        5\n",
      "38        3\n",
      "37        2\n",
      "-         2\n",
      "-9        2\n",
      "-8        2\n",
      "39        1\n",
      "40        1\n",
      "high      1\n",
      "Name: Temp high (°C), dtype: int64\n",
      "---- Temp avg (°C) ---\n",
      "24     148\n",
      "23     125\n",
      "26     119\n",
      "22     115\n",
      "16     110\n",
      "12     110\n",
      "19     110\n",
      "17     110\n",
      "4      109\n",
      "8      102\n",
      "9      100\n",
      "13      96\n",
      "21      95\n",
      "6       92\n",
      "18      91\n",
      "11      90\n",
      "7       90\n",
      "27      90\n",
      "14      87\n",
      "1       85\n",
      "28      79\n",
      "2       79\n",
      "3       74\n",
      "10      64\n",
      "25      57\n",
      "-1      55\n",
      "-3      55\n",
      "20      53\n",
      "-2      49\n",
      "15      46\n",
      "-4      38\n",
      "5       38\n",
      "29      31\n",
      "0       29\n",
      "-7      18\n",
      "-6      17\n",
      "30      12\n",
      "31      11\n",
      "-9       9\n",
      "-8       6\n",
      "-5       6\n",
      "-10      5\n",
      "32       5\n",
      "-11      4\n",
      "33       2\n",
      "-        2\n",
      "34       1\n",
      "avg      1\n",
      "-14      1\n",
      "-12      1\n",
      "Name: Temp avg (°C), dtype: int64\n",
      "---- Temp low (°C) ---\n",
      "18     135\n",
      "21     128\n",
      "2      128\n",
      "19     127\n",
      "12     120\n",
      "6      118\n",
      "22     114\n",
      "16     106\n",
      "3      106\n",
      "8      106\n",
      "14     103\n",
      "7      100\n",
      "17      99\n",
      "13      98\n",
      "11      97\n",
      "4       96\n",
      "1       91\n",
      "-1      88\n",
      "9       87\n",
      "-2      83\n",
      "23      80\n",
      "20      74\n",
      "10      65\n",
      "5       64\n",
      "-4      62\n",
      "-3      59\n",
      "24      51\n",
      "0       42\n",
      "15      42\n",
      "-6      40\n",
      "-7      40\n",
      "-8      28\n",
      "-5      24\n",
      "-9      24\n",
      "-11     20\n",
      "26      17\n",
      "25      13\n",
      "-13     11\n",
      "-10      8\n",
      "27       7\n",
      "-16      4\n",
      "-12      4\n",
      "-14      4\n",
      "28       3\n",
      "-        2\n",
      "-17      1\n",
      "-18      1\n",
      "low      1\n",
      "29       1\n",
      "Name: Temp low (°C), dtype: int64\n",
      "---- Dew Point high (°C) ---\n",
      "18      138\n",
      "16      132\n",
      "14      128\n",
      "21      125\n",
      "13      124\n",
      "19      120\n",
      "22      118\n",
      "8       101\n",
      "12       98\n",
      "17       97\n",
      "11       96\n",
      "-1       93\n",
      "6        92\n",
      "9        90\n",
      "-2       89\n",
      "1        89\n",
      "2        84\n",
      "7        80\n",
      "4        79\n",
      "3        76\n",
      "23       75\n",
      "20       74\n",
      "-3       72\n",
      "-6       64\n",
      "-7       60\n",
      "10       59\n",
      "-4       54\n",
      "5        51\n",
      "15       50\n",
      "0        45\n",
      "-11      36\n",
      "-5       32\n",
      "24       31\n",
      "-8       31\n",
      "-9       25\n",
      "-12      23\n",
      "-10      20\n",
      "-13      17\n",
      "-14      10\n",
      "-16      10\n",
      "-17       7\n",
      "25        7\n",
      "26        4\n",
      "-15       4\n",
      "-18       3\n",
      "-21       3\n",
      "-         2\n",
      "-19       1\n",
      "-22       1\n",
      "-24       1\n",
      "high      1\n",
      "Name: Dew Point high (°C), dtype: int64\n",
      "---- Dew Point avg (°C) ---\n",
      "12     132\n",
      "18     121\n",
      "16     118\n",
      "11     113\n",
      "14     111\n",
      "17     108\n",
      "19     103\n",
      "-1     101\n",
      "13     101\n",
      "6      100\n",
      "-2      98\n",
      "-4      93\n",
      "4       91\n",
      "9       90\n",
      "7       89\n",
      "21      87\n",
      "3       87\n",
      "8       86\n",
      "1       84\n",
      "-3      81\n",
      "2       77\n",
      "-6      77\n",
      "-8      73\n",
      "-7      57\n",
      "-9      57\n",
      "0       54\n",
      "-12     50\n",
      "15      48\n",
      "22      45\n",
      "-13     43\n",
      "20      41\n",
      "-5      40\n",
      "-11     40\n",
      "5       39\n",
      "10      36\n",
      "-14     30\n",
      "-16     24\n",
      "-17     18\n",
      "-10     15\n",
      "23      15\n",
      "-18     15\n",
      "-19     10\n",
      "-15      7\n",
      "-20      3\n",
      "-22      3\n",
      "-24      2\n",
      "24       2\n",
      "-21      2\n",
      "-        2\n",
      "-27      1\n",
      "-23      1\n",
      "avg      1\n",
      "Name: Dew Point avg (°C), dtype: int64\n",
      "---- Dew Point low (°C) ---\n",
      "12     116\n",
      "9      115\n",
      "13     112\n",
      "-4     105\n",
      "11     104\n",
      "-3      99\n",
      "8       98\n",
      "17      95\n",
      "-8      93\n",
      "14      93\n",
      "-2      92\n",
      "-6      91\n",
      "1       90\n",
      "-7      88\n",
      "16      87\n",
      "4       83\n",
      "7       82\n",
      "6       80\n",
      "-1      79\n",
      "2       75\n",
      "3       74\n",
      "-9      70\n",
      "19      66\n",
      "-11     66\n",
      "18      60\n",
      "-16     54\n",
      "-5      54\n",
      "-13     53\n",
      "-12     53\n",
      "10      51\n",
      "5       50\n",
      "-14     44\n",
      "15      38\n",
      "-10     37\n",
      "0       36\n",
      "-18     35\n",
      "-17     32\n",
      "-15     30\n",
      "-19     30\n",
      "21      29\n",
      "-21     20\n",
      "20      18\n",
      "-22     12\n",
      "-20     10\n",
      "-24      6\n",
      "-25      5\n",
      "-27      4\n",
      "-        2\n",
      "22       2\n",
      "-23      2\n",
      "-28      1\n",
      "low      1\n",
      "Name: Dew Point low (°C), dtype: int64\n",
      "---- Humidity (%) high ---\n",
      "100     326\n",
      "93      281\n",
      "84       97\n",
      "92       90\n",
      "70       82\n",
      "73       76\n",
      "64       74\n",
      "87       74\n",
      "90       68\n",
      "78       67\n",
      "89       65\n",
      "86       63\n",
      "77       62\n",
      "97       59\n",
      "59       57\n",
      "68       57\n",
      "72       56\n",
      "76       56\n",
      "79       56\n",
      "63       56\n",
      "67       53\n",
      "61       53\n",
      "82       52\n",
      "96       51\n",
      "71       50\n",
      "58       49\n",
      "69       47\n",
      "80       42\n",
      "74       42\n",
      "65       42\n",
      "       ... \n",
      "56       34\n",
      "81       33\n",
      "75       32\n",
      "57       29\n",
      "54       28\n",
      "94       26\n",
      "50       25\n",
      "52       22\n",
      "49       17\n",
      "47       16\n",
      "51       13\n",
      "48       11\n",
      "45        9\n",
      "44        9\n",
      "43        8\n",
      "42        8\n",
      "46        8\n",
      "41        7\n",
      "88        7\n",
      "37        3\n",
      "91        3\n",
      "39        2\n",
      "36        2\n",
      "-         2\n",
      "40        1\n",
      "high      1\n",
      "35        1\n",
      "34        1\n",
      "32        1\n",
      "28        1\n",
      "Name: Humidity (%) high, Length: 67, dtype: int64\n",
      "---- Humidity (%) avg ---\n",
      "54     97\n",
      "56     82\n",
      "58     79\n",
      "48     78\n",
      "63     75\n",
      "66     74\n",
      "62     74\n",
      "50     74\n",
      "55     73\n",
      "52     72\n",
      "57     71\n",
      "53     69\n",
      "61     68\n",
      "68     66\n",
      "74     65\n",
      "71     64\n",
      "51     63\n",
      "59     63\n",
      "47     63\n",
      "65     63\n",
      "73     62\n",
      "72     59\n",
      "60     59\n",
      "70     59\n",
      "46     58\n",
      "49     58\n",
      "67     58\n",
      "77     54\n",
      "69     52\n",
      "42     51\n",
      "       ..\n",
      "38     23\n",
      "89     23\n",
      "39     23\n",
      "86     21\n",
      "88     21\n",
      "85     21\n",
      "90     20\n",
      "87     20\n",
      "36     18\n",
      "92     14\n",
      "35     14\n",
      "34     13\n",
      "91     13\n",
      "93     12\n",
      "97     10\n",
      "95      9\n",
      "33      9\n",
      "31      9\n",
      "94      7\n",
      "32      5\n",
      "27      5\n",
      "30      3\n",
      "29      3\n",
      "23      2\n",
      "26      2\n",
      "-       2\n",
      "28      1\n",
      "avg     1\n",
      "96      1\n",
      "20      1\n",
      "Name: Humidity (%) avg, Length: 76, dtype: int64\n",
      "---- Humidity (%) low ---\n",
      "34     94\n",
      "38     91\n",
      "44     87\n",
      "40     86\n",
      "36     85\n",
      "37     82\n",
      "39     82\n",
      "45     80\n",
      "33     80\n",
      "35     79\n",
      "31     74\n",
      "41     73\n",
      "32     73\n",
      "42     72\n",
      "47     69\n",
      "43     69\n",
      "51     67\n",
      "46     66\n",
      "29     61\n",
      "48     60\n",
      "28     58\n",
      "52     56\n",
      "30     54\n",
      "49     53\n",
      "27     50\n",
      "53     47\n",
      "54     43\n",
      "25     42\n",
      "24     41\n",
      "57     40\n",
      "       ..\n",
      "73     17\n",
      "84     16\n",
      "69     14\n",
      "72     14\n",
      "74     14\n",
      "18     13\n",
      "82     13\n",
      "71     13\n",
      "86     13\n",
      "93     10\n",
      "76     10\n",
      "15      9\n",
      "87      9\n",
      "83      8\n",
      "77      7\n",
      "75      6\n",
      "89      6\n",
      "16      6\n",
      "80      5\n",
      "90      5\n",
      "85      5\n",
      "14      5\n",
      "81      4\n",
      "12      3\n",
      "11      2\n",
      "-       2\n",
      "13      1\n",
      "low     1\n",
      "92      1\n",
      "9       1\n",
      "Name: Humidity (%) low, Length: 84, dtype: int64\n",
      "---- Sea Level Press. (hPa) high ---\n",
      "1020    172\n",
      "1021    171\n",
      "1016    171\n",
      "1017    166\n",
      "1019    161\n",
      "1022    161\n",
      "1023    147\n",
      "1014    146\n",
      "1015    143\n",
      "1024    127\n",
      "1025    117\n",
      "1013    110\n",
      "1026    106\n",
      "1012    104\n",
      "1027     97\n",
      "1018     97\n",
      "1028     75\n",
      "1011     72\n",
      "1029     67\n",
      "1030     62\n",
      "1010     52\n",
      "1031     41\n",
      "1032     41\n",
      "1009     40\n",
      "1008     38\n",
      "1007     29\n",
      "1033     25\n",
      "1006     21\n",
      "1035     19\n",
      "-        19\n",
      "1034     18\n",
      "1005     16\n",
      "1036     14\n",
      "1004     13\n",
      "1038     11\n",
      "1037     11\n",
      "1003     11\n",
      "1039      5\n",
      "1041      4\n",
      "1000      3\n",
      "1040      3\n",
      "1002      3\n",
      "1001      3\n",
      "1044      2\n",
      "999       1\n",
      "998       1\n",
      "996       1\n",
      "994       1\n",
      "995       1\n",
      "1042      1\n",
      "1043      1\n",
      "high      1\n",
      "Name: Sea Level Press. (hPa) high, dtype: int64\n",
      "---- Sea Level Press. (hPa) avg ---\n",
      "1016    166\n",
      "1014    165\n",
      "1012    164\n",
      "1015    161\n",
      "1019    156\n",
      "1017    148\n",
      "1013    148\n",
      "1020    142\n",
      "1011    137\n",
      "1022    131\n",
      "1021    129\n",
      "1018    119\n",
      "1023    108\n",
      "1010    103\n",
      "1009     93\n",
      "1025     79\n",
      "1024     71\n",
      "1008     69\n",
      "1007     62\n",
      "1026     57\n",
      "1006     56\n",
      "1027     51\n",
      "1005     46\n",
      "1028     42\n",
      "1029     33\n",
      "1004     30\n",
      "1030     29\n",
      "1031     28\n",
      "1002     27\n",
      "1003     23\n",
      "1000     21\n",
      "-        19\n",
      "1033     14\n",
      "1001     13\n",
      "1032     13\n",
      "999       9\n",
      "1036      8\n",
      "994       6\n",
      "998       6\n",
      "1035      5\n",
      "1037      4\n",
      "997       4\n",
      "1034      4\n",
      "996       4\n",
      "993       4\n",
      "1038      3\n",
      "992       2\n",
      "1041      2\n",
      "avg       1\n",
      "989       1\n",
      "991       1\n",
      "990       1\n",
      "988       1\n",
      "987       1\n",
      "1040      1\n",
      "980       1\n",
      "Name: Sea Level Press. (hPa) avg, dtype: int64\n",
      "---- Sea Level Press. (hPa) low ---\n",
      "1013    174\n",
      "1011    170\n",
      "1012    168\n",
      "1015    161\n",
      "1014    148\n",
      "1009    147\n",
      "1016    143\n",
      "1010    143\n",
      "1020    126\n",
      "1019    121\n",
      "1008    120\n",
      "1017    104\n",
      "1007     97\n",
      "1006     94\n",
      "1021     87\n",
      "1018     82\n",
      "1004     73\n",
      "1023     71\n",
      "1005     66\n",
      "1022     60\n",
      "1003     55\n",
      "1024     49\n",
      "1025     47\n",
      "1002     42\n",
      "1001     41\n",
      "1026     32\n",
      "1027     29\n",
      "1000     28\n",
      "999      27\n",
      "998      27\n",
      "-        19\n",
      "997      18\n",
      "1028     17\n",
      "1029     17\n",
      "994      15\n",
      "996      14\n",
      "993       9\n",
      "995       9\n",
      "1030      8\n",
      "989       8\n",
      "1032      8\n",
      "1031      6\n",
      "992       5\n",
      "1033      4\n",
      "991       4\n",
      "983       4\n",
      "988       3\n",
      "987       3\n",
      "986       3\n",
      "1037      2\n",
      "1036      2\n",
      "990       2\n",
      "1034      2\n",
      "966       2\n",
      "1035      1\n",
      "984       1\n",
      "low       1\n",
      "978       1\n",
      "982       1\n",
      "980       1\n",
      "Name: Sea Level Press. (hPa) low, dtype: int64\n",
      "---- Visibility (km) high ---\n",
      "16      2794\n",
      "14        52\n",
      "-         28\n",
      "13        25\n",
      "11        13\n",
      "10         7\n",
      "8          2\n",
      "high       1\n",
      "Name: Visibility (km) high, dtype: int64\n",
      "---- Visibility (km) avg ---\n",
      "16     1619\n",
      "15      238\n",
      "14      204\n",
      "13      124\n",
      "9       115\n",
      "10      113\n",
      "12      106\n",
      "11       90\n",
      "8        83\n",
      "7        81\n",
      "6        65\n",
      "5        38\n",
      "-        28\n",
      "4        10\n",
      "3         5\n",
      "avg       1\n",
      "2         1\n",
      "1         1\n",
      "Name: Visibility (km) avg, dtype: int64\n",
      "---- Visibility (km) low ---\n",
      "16     1274\n",
      "1       240\n",
      "2       201\n",
      "3       185\n",
      "14      179\n",
      "13      135\n",
      "11      130\n",
      "0       121\n",
      "6       106\n",
      "10      105\n",
      "8        87\n",
      "4        78\n",
      "5        52\n",
      "-        28\n",
      "low       1\n",
      "Name: Visibility (km) low, dtype: int64\n",
      "---- Wind (km/h) low ---\n",
      "21     377\n",
      "19     360\n",
      "23     316\n",
      "16     302\n",
      "24     293\n",
      "26     242\n",
      "27     214\n",
      "14     185\n",
      "29     138\n",
      "32      98\n",
      "34      94\n",
      "13      80\n",
      "35      57\n",
      "37      37\n",
      "11      26\n",
      "-       20\n",
      "40      20\n",
      "39      19\n",
      "42       9\n",
      "10       8\n",
      "48       6\n",
      "47       5\n",
      "45       4\n",
      "50       2\n",
      "52       2\n",
      "8        2\n",
      "159      1\n",
      "60       1\n",
      "61       1\n",
      "121      1\n",
      "low      1\n",
      "6        1\n",
      "Name: Wind (km/h) low, dtype: int64\n",
      "---- Wind (km/h) avg ---\n",
      "7      338\n",
      "8      335\n",
      "9      328\n",
      "6      296\n",
      "5      268\n",
      "10     226\n",
      "11     191\n",
      "12     150\n",
      "4      150\n",
      "13     119\n",
      "14     119\n",
      "3       76\n",
      "15      60\n",
      "16      56\n",
      "17      47\n",
      "18      33\n",
      "19      28\n",
      "2       22\n",
      "-       20\n",
      "20      20\n",
      "22       8\n",
      "23       7\n",
      "21       5\n",
      "24       4\n",
      "1        4\n",
      "25       3\n",
      "0        3\n",
      "159      1\n",
      "26       1\n",
      "28       1\n",
      "30       1\n",
      "37       1\n",
      "avg      1\n",
      "Name: Wind (km/h) avg, dtype: int64\n",
      "---- Wind (km/h) high ---\n",
      "35      229\n",
      "27      208\n",
      "32      206\n",
      "29      194\n",
      "37      189\n",
      "26      188\n",
      "34      159\n",
      "40      150\n",
      "39      141\n",
      "42      127\n",
      "31      120\n",
      "24      115\n",
      "23      107\n",
      "45       90\n",
      "48       76\n",
      "47       65\n",
      "21       59\n",
      "-        59\n",
      "50       57\n",
      "52       51\n",
      "43       49\n",
      "53       41\n",
      "19       34\n",
      "56       32\n",
      "58       30\n",
      "55       22\n",
      "60       17\n",
      "64       16\n",
      "61       14\n",
      "63       14\n",
      "18       12\n",
      "69       11\n",
      "66       10\n",
      "16        8\n",
      "71        4\n",
      "72        3\n",
      "14        3\n",
      "74        2\n",
      "68        2\n",
      "76        1\n",
      "77        1\n",
      "85        1\n",
      "97        1\n",
      "100       1\n",
      "159       1\n",
      "high      1\n",
      "11        1\n",
      "Name: Wind (km/h) high, dtype: int64\n",
      "---- Precip. (mm) sum ---\n",
      "0         1754\n",
      "T          205\n",
      "0.25        86\n",
      "0.51        57\n",
      "0.76        45\n",
      "1.02        38\n",
      "1.27        36\n",
      "1.52        36\n",
      "2.29        27\n",
      "1.78        22\n",
      "4.83        19\n",
      "3.3         16\n",
      "4.06        15\n",
      "2.79        15\n",
      "2.03        14\n",
      "3.56        14\n",
      "3.81        13\n",
      "3.05        12\n",
      "6.35        11\n",
      "12.7        10\n",
      "5.59        10\n",
      "7.62        10\n",
      "8.89        10\n",
      "7.37        10\n",
      "4.57        10\n",
      "8.38        10\n",
      "11.43       10\n",
      "6.1          9\n",
      "10.16        8\n",
      "5.08         8\n",
      "          ... \n",
      "21.84        1\n",
      "21.08        1\n",
      "46.23        1\n",
      "23.88        1\n",
      "29.97        1\n",
      "27.94        1\n",
      "126.24       1\n",
      "36.07        1\n",
      "51.31        1\n",
      "73.15        1\n",
      "42.67        1\n",
      "58.42        1\n",
      "33.02        1\n",
      "17.27        1\n",
      "64.52        1\n",
      "66.29        1\n",
      "39.62        1\n",
      "76.71        1\n",
      "81.79        1\n",
      "14.73        1\n",
      "38.35        1\n",
      "98.04        1\n",
      "20.57        1\n",
      "101.35       1\n",
      "105.66       1\n",
      "sum          1\n",
      "49.53        1\n",
      "36.83        1\n",
      "45.72        1\n",
      "20.83        1\n",
      "Name: Precip. (mm) sum, Length: 179, dtype: int64\n",
      "---- WeatherEvent ---\n",
      "Rain                 685\n",
      "Fog , Rain           156\n",
      "Snow                  72\n",
      "Fog , Snow            39\n",
      "Rain , Snow           27\n",
      "Fog , Rain , Snow     22\n",
      "Fog                   12\n",
      "Thunderstorm           1\n",
      "Name: WeatherEvent, dtype: int64\n"
     ]
    }
   ],
   "source": [
    "for c in weath.columns:\n",
    "    print( \"---- %s ---\" % c)\n",
    "    print(weath[c].value_counts())"
   ]
  },
  {
   "cell_type": "code",
   "execution_count": 317,
   "metadata": {},
   "outputs": [],
   "source": [
    "for i in weath.columns:\n",
    "    weath[i]=weath[i].replace('-',np.nan)"
   ]
  },
  {
   "cell_type": "code",
   "execution_count": 318,
   "metadata": {},
   "outputs": [
    {
     "name": "stdout",
     "output_type": "stream",
     "text": [
      "      Year Month  Day Temp high (°C) Temp avg (°C) Temp low (°C)  \\\n",
      "1826  2014   Jan    1           high           avg           low   \n",
      "\n",
      "     Dew Point high (°C) Dew Point avg (°C) Dew Point low (°C)  \\\n",
      "1826                high                avg                low   \n",
      "\n",
      "     Humidity (%) high  ... Sea Level Press. (hPa) avg  \\\n",
      "1826              high  ...                        avg   \n",
      "\n",
      "     Sea Level Press. (hPa) low Visibility (km) high Visibility (km) avg  \\\n",
      "1826                        low                 high                 avg   \n",
      "\n",
      "     Visibility (km) low Wind (km/h) low Wind (km/h) avg Wind (km/h) high  \\\n",
      "1826                 low             low             avg             high   \n",
      "\n",
      "     Precip. (mm) sum WeatherEvent  \n",
      "1826              sum          NaN  \n",
      "\n",
      "[1 rows x 23 columns]\n"
     ]
    }
   ],
   "source": [
    "print(weath.loc[weath['Wind\\xa0(km/h) high'] == 'high'])"
   ]
  },
  {
   "cell_type": "code",
   "execution_count": 319,
   "metadata": {},
   "outputs": [],
   "source": [
    "weath.drop(weath.index[1826],inplace=True)"
   ]
  },
  {
   "cell_type": "code",
   "execution_count": 320,
   "metadata": {},
   "outputs": [
    {
     "name": "stdout",
     "output_type": "stream",
     "text": [
      "Empty DataFrame\n",
      "Columns: [Year, Month, Day, Temp high (°C), Temp avg (°C), Temp low (°C), Dew Point high (°C), Dew Point avg (°C), Dew Point low (°C), Humidity (%) high, Humidity (%) avg, Humidity (%) low, Sea Level Press. (hPa) high, Sea Level Press. (hPa) avg, Sea Level Press. (hPa) low, Visibility (km) high, Visibility (km) avg, Visibility (km) low, Wind (km/h) low, Wind (km/h) avg, Wind (km/h) high, Precip. (mm) sum, WeatherEvent]\n",
      "Index: []\n",
      "\n",
      "[0 rows x 23 columns]\n"
     ]
    }
   ],
   "source": [
    "print(weath.loc[weath['Wind\\xa0(km/h) high'] == 'high'])"
   ]
  },
  {
   "cell_type": "code",
   "execution_count": 321,
   "metadata": {},
   "outputs": [],
   "source": [
    "weath=weath.drop(['Precip.\\xa0(mm) sum','WeatherEvent'],axis=1)"
   ]
  },
  {
   "cell_type": "code",
   "execution_count": 322,
   "metadata": {},
   "outputs": [],
   "source": [
    "weath['Month']=weath['Month'].replace({'Jan':1,'Feb':2,'Mar':3,'Apr':4,'May':5,'Jun':6,'Jul':7,'Aug':8,\n",
    "                                'Sep':9,'Oct':10,'Nov':11,'Dec':12})"
   ]
  },
  {
   "cell_type": "code",
   "execution_count": 323,
   "metadata": {},
   "outputs": [],
   "source": [
    "weath.dropna(inplace=True)"
   ]
  },
  {
   "cell_type": "code",
   "execution_count": 324,
   "metadata": {},
   "outputs": [],
   "source": [
    "for i in weath.columns:\n",
    "    weath[i]=weath[i].astype(float)"
   ]
  },
  {
   "cell_type": "code",
   "execution_count": 325,
   "metadata": {},
   "outputs": [],
   "source": [
    "weath['Year']=weath['Year'].astype('int64')"
   ]
  },
  {
   "cell_type": "code",
   "execution_count": 326,
   "metadata": {},
   "outputs": [],
   "source": [
    "weath['Month']=weath['Month'].astype('int64')"
   ]
  },
  {
   "cell_type": "code",
   "execution_count": 327,
   "metadata": {
    "cell_style": "split"
   },
   "outputs": [
    {
     "data": {
      "text/plain": [
       "Year                             int64\n",
       "Month                            int64\n",
       "Day                            float64\n",
       "Temp high (°C)                 float64\n",
       "Temp avg (°C)                  float64\n",
       "Temp low (°C)                  float64\n",
       "Dew Point high (°C)            float64\n",
       "Dew Point avg (°C)             float64\n",
       "Dew Point low (°C)             float64\n",
       "Humidity (%) high              float64\n",
       "Humidity (%) avg               float64\n",
       "Humidity (%) low               float64\n",
       "Sea Level Press. (hPa) high    float64\n",
       "Sea Level Press. (hPa) avg     float64\n",
       "Sea Level Press. (hPa) low     float64\n",
       "Visibility (km) high           float64\n",
       "Visibility (km) avg            float64\n",
       "Visibility (km) low            float64\n",
       "Wind (km/h) low                float64\n",
       "Wind (km/h) avg                float64\n",
       "Wind (km/h) high               float64\n",
       "dtype: object"
      ]
     },
     "execution_count": 327,
     "metadata": {},
     "output_type": "execute_result"
    }
   ],
   "source": [
    "weath.dtypes"
   ]
  },
  {
   "cell_type": "code",
   "execution_count": 328,
   "metadata": {
    "cell_style": "split"
   },
   "outputs": [
    {
     "data": {
      "text/plain": [
       "Monthly Nominal GDP Index (inMillion$)                               float64\n",
       "Monthly Real GDP Index (inMillion$)                                  float64\n",
       "CPI                                                                  float64\n",
       "unemployment rate                                                    float64\n",
       "CommercialBankInterestRateonCreditCardPlans                          float64\n",
       "Finance Rate on Personal Loans at Commercial Banks, 24 Month Loan    float64\n",
       "Earnings or wages  in dollars per hour                               float64\n",
       "Cotton Monthly Price - US cents per Pound(lbs)                       float64\n",
       "Change(in%)                                                          float64\n",
       "Average upland planted(million acres)                                float64\n",
       "Average upland harvested(million acres)                              float64\n",
       "yieldperharvested acre                                                 int64\n",
       "Production (in  480-lb netweright in million bales)                  float64\n",
       "Mill use  (in  480-lb netweright in million bales)                   float64\n",
       "Exports                                                              float64\n",
       "Year                                                                   int32\n",
       "Month                                                                  int64\n",
       "dtype: object"
      ]
     },
     "execution_count": 328,
     "metadata": {},
     "output_type": "execute_result"
    }
   ],
   "source": [
    "macro.dtypes"
   ]
  },
  {
   "cell_type": "code",
   "execution_count": 329,
   "metadata": {
    "scrolled": true
   },
   "outputs": [
    {
     "data": {
      "text/html": [
       "<div>\n",
       "<style scoped>\n",
       "    .dataframe tbody tr th:only-of-type {\n",
       "        vertical-align: middle;\n",
       "    }\n",
       "\n",
       "    .dataframe tbody tr th {\n",
       "        vertical-align: top;\n",
       "    }\n",
       "\n",
       "    .dataframe thead th {\n",
       "        text-align: right;\n",
       "    }\n",
       "</style>\n",
       "<table border=\"1\" class=\"dataframe\">\n",
       "  <thead>\n",
       "    <tr style=\"text-align: right;\">\n",
       "      <th></th>\n",
       "      <th>Year</th>\n",
       "      <th>Month</th>\n",
       "      <th>Day</th>\n",
       "      <th>Temp high (°C)</th>\n",
       "      <th>Temp avg (°C)</th>\n",
       "      <th>Temp low (°C)</th>\n",
       "      <th>Dew Point high (°C)</th>\n",
       "      <th>Dew Point avg (°C)</th>\n",
       "      <th>Dew Point low (°C)</th>\n",
       "      <th>Humidity (%) high</th>\n",
       "      <th>...</th>\n",
       "      <th>Humidity (%) low</th>\n",
       "      <th>Sea Level Press. (hPa) high</th>\n",
       "      <th>Sea Level Press. (hPa) avg</th>\n",
       "      <th>Sea Level Press. (hPa) low</th>\n",
       "      <th>Visibility (km) high</th>\n",
       "      <th>Visibility (km) avg</th>\n",
       "      <th>Visibility (km) low</th>\n",
       "      <th>Wind (km/h) low</th>\n",
       "      <th>Wind (km/h) avg</th>\n",
       "      <th>Wind (km/h) high</th>\n",
       "    </tr>\n",
       "  </thead>\n",
       "  <tbody>\n",
       "    <tr>\n",
       "      <th>0</th>\n",
       "      <td>2009</td>\n",
       "      <td>1</td>\n",
       "      <td>1.0</td>\n",
       "      <td>-3.0</td>\n",
       "      <td>-6.0</td>\n",
       "      <td>-9.0</td>\n",
       "      <td>-16.0</td>\n",
       "      <td>-17.0</td>\n",
       "      <td>-19.0</td>\n",
       "      <td>54.0</td>\n",
       "      <td>...</td>\n",
       "      <td>32.0</td>\n",
       "      <td>1025.0</td>\n",
       "      <td>1023.0</td>\n",
       "      <td>1015.0</td>\n",
       "      <td>16.0</td>\n",
       "      <td>16.0</td>\n",
       "      <td>16.0</td>\n",
       "      <td>37.0</td>\n",
       "      <td>18.0</td>\n",
       "      <td>60.0</td>\n",
       "    </tr>\n",
       "    <tr>\n",
       "      <th>1</th>\n",
       "      <td>2009</td>\n",
       "      <td>1</td>\n",
       "      <td>2.0</td>\n",
       "      <td>1.0</td>\n",
       "      <td>-2.0</td>\n",
       "      <td>-5.0</td>\n",
       "      <td>-3.0</td>\n",
       "      <td>-7.0</td>\n",
       "      <td>-17.0</td>\n",
       "      <td>78.0</td>\n",
       "      <td>...</td>\n",
       "      <td>36.0</td>\n",
       "      <td>1022.0</td>\n",
       "      <td>1012.0</td>\n",
       "      <td>1007.0</td>\n",
       "      <td>16.0</td>\n",
       "      <td>13.0</td>\n",
       "      <td>2.0</td>\n",
       "      <td>27.0</td>\n",
       "      <td>10.0</td>\n",
       "      <td>48.0</td>\n",
       "    </tr>\n",
       "    <tr>\n",
       "      <th>2</th>\n",
       "      <td>2009</td>\n",
       "      <td>1</td>\n",
       "      <td>3.0</td>\n",
       "      <td>3.0</td>\n",
       "      <td>1.0</td>\n",
       "      <td>-2.0</td>\n",
       "      <td>-5.0</td>\n",
       "      <td>-9.0</td>\n",
       "      <td>-13.0</td>\n",
       "      <td>72.0</td>\n",
       "      <td>...</td>\n",
       "      <td>35.0</td>\n",
       "      <td>1018.0</td>\n",
       "      <td>1015.0</td>\n",
       "      <td>1008.0</td>\n",
       "      <td>16.0</td>\n",
       "      <td>16.0</td>\n",
       "      <td>16.0</td>\n",
       "      <td>27.0</td>\n",
       "      <td>16.0</td>\n",
       "      <td>42.0</td>\n",
       "    </tr>\n",
       "    <tr>\n",
       "      <th>3</th>\n",
       "      <td>2009</td>\n",
       "      <td>1</td>\n",
       "      <td>4.0</td>\n",
       "      <td>6.0</td>\n",
       "      <td>1.0</td>\n",
       "      <td>-4.0</td>\n",
       "      <td>-10.0</td>\n",
       "      <td>-12.0</td>\n",
       "      <td>-13.0</td>\n",
       "      <td>55.0</td>\n",
       "      <td>...</td>\n",
       "      <td>29.0</td>\n",
       "      <td>1020.0</td>\n",
       "      <td>1017.0</td>\n",
       "      <td>1015.0</td>\n",
       "      <td>16.0</td>\n",
       "      <td>16.0</td>\n",
       "      <td>16.0</td>\n",
       "      <td>32.0</td>\n",
       "      <td>12.0</td>\n",
       "      <td>40.0</td>\n",
       "    </tr>\n",
       "    <tr>\n",
       "      <th>4</th>\n",
       "      <td>2009</td>\n",
       "      <td>1</td>\n",
       "      <td>5.0</td>\n",
       "      <td>6.0</td>\n",
       "      <td>5.0</td>\n",
       "      <td>3.0</td>\n",
       "      <td>-1.0</td>\n",
       "      <td>-5.0</td>\n",
       "      <td>-16.0</td>\n",
       "      <td>62.0</td>\n",
       "      <td>...</td>\n",
       "      <td>33.0</td>\n",
       "      <td>1016.0</td>\n",
       "      <td>1014.0</td>\n",
       "      <td>1013.0</td>\n",
       "      <td>16.0</td>\n",
       "      <td>16.0</td>\n",
       "      <td>16.0</td>\n",
       "      <td>23.0</td>\n",
       "      <td>11.0</td>\n",
       "      <td>34.0</td>\n",
       "    </tr>\n",
       "  </tbody>\n",
       "</table>\n",
       "<p>5 rows × 21 columns</p>\n",
       "</div>"
      ],
      "text/plain": [
       "   Year  Month  Day  Temp high (°C)  Temp avg (°C)  Temp low (°C)  \\\n",
       "0  2009      1  1.0            -3.0           -6.0           -9.0   \n",
       "1  2009      1  2.0             1.0           -2.0           -5.0   \n",
       "2  2009      1  3.0             3.0            1.0           -2.0   \n",
       "3  2009      1  4.0             6.0            1.0           -4.0   \n",
       "4  2009      1  5.0             6.0            5.0            3.0   \n",
       "\n",
       "   Dew Point high (°C)  Dew Point avg (°C)  Dew Point low (°C)  \\\n",
       "0                -16.0               -17.0               -19.0   \n",
       "1                 -3.0                -7.0               -17.0   \n",
       "2                 -5.0                -9.0               -13.0   \n",
       "3                -10.0               -12.0               -13.0   \n",
       "4                 -1.0                -5.0               -16.0   \n",
       "\n",
       "   Humidity (%) high  ...  Humidity (%) low  Sea Level Press. (hPa) high  \\\n",
       "0               54.0  ...              32.0                       1025.0   \n",
       "1               78.0  ...              36.0                       1022.0   \n",
       "2               72.0  ...              35.0                       1018.0   \n",
       "3               55.0  ...              29.0                       1020.0   \n",
       "4               62.0  ...              33.0                       1016.0   \n",
       "\n",
       "   Sea Level Press. (hPa) avg  Sea Level Press. (hPa) low  \\\n",
       "0                      1023.0                      1015.0   \n",
       "1                      1012.0                      1007.0   \n",
       "2                      1015.0                      1008.0   \n",
       "3                      1017.0                      1015.0   \n",
       "4                      1014.0                      1013.0   \n",
       "\n",
       "   Visibility (km) high  Visibility (km) avg  Visibility (km) low  \\\n",
       "0                  16.0                 16.0                 16.0   \n",
       "1                  16.0                 13.0                  2.0   \n",
       "2                  16.0                 16.0                 16.0   \n",
       "3                  16.0                 16.0                 16.0   \n",
       "4                  16.0                 16.0                 16.0   \n",
       "\n",
       "   Wind (km/h) low  Wind (km/h) avg  Wind (km/h) high  \n",
       "0             37.0             18.0              60.0  \n",
       "1             27.0             10.0              48.0  \n",
       "2             27.0             16.0              42.0  \n",
       "3             32.0             12.0              40.0  \n",
       "4             23.0             11.0              34.0  \n",
       "\n",
       "[5 rows x 21 columns]"
      ]
     },
     "execution_count": 329,
     "metadata": {},
     "output_type": "execute_result"
    }
   ],
   "source": [
    "weath.head()"
   ]
  },
  {
   "cell_type": "code",
   "execution_count": 330,
   "metadata": {},
   "outputs": [
    {
     "data": {
      "text/html": [
       "<div>\n",
       "<style scoped>\n",
       "    .dataframe tbody tr th:only-of-type {\n",
       "        vertical-align: middle;\n",
       "    }\n",
       "\n",
       "    .dataframe tbody tr th {\n",
       "        vertical-align: top;\n",
       "    }\n",
       "\n",
       "    .dataframe thead th {\n",
       "        text-align: right;\n",
       "    }\n",
       "</style>\n",
       "<table border=\"1\" class=\"dataframe\">\n",
       "  <thead>\n",
       "    <tr style=\"text-align: right;\">\n",
       "      <th></th>\n",
       "      <th>Monthly Nominal GDP Index (inMillion$)</th>\n",
       "      <th>Monthly Real GDP Index (inMillion$)</th>\n",
       "      <th>CPI</th>\n",
       "      <th>unemployment rate</th>\n",
       "      <th>CommercialBankInterestRateonCreditCardPlans</th>\n",
       "      <th>Finance Rate on Personal Loans at Commercial Banks, 24 Month Loan</th>\n",
       "      <th>Earnings or wages  in dollars per hour</th>\n",
       "      <th>Cotton Monthly Price - US cents per Pound(lbs)</th>\n",
       "      <th>Change(in%)</th>\n",
       "      <th>Average upland planted(million acres)</th>\n",
       "      <th>Average upland harvested(million acres)</th>\n",
       "      <th>yieldperharvested acre</th>\n",
       "      <th>Production (in  480-lb netweright in million bales)</th>\n",
       "      <th>Mill use  (in  480-lb netweright in million bales)</th>\n",
       "      <th>Exports</th>\n",
       "      <th>Year</th>\n",
       "      <th>Month</th>\n",
       "    </tr>\n",
       "  </thead>\n",
       "  <tbody>\n",
       "    <tr>\n",
       "      <th>0</th>\n",
       "      <td>14421.752895</td>\n",
       "      <td>14407.053343</td>\n",
       "      <td>233.402</td>\n",
       "      <td>7.8</td>\n",
       "      <td>12.03</td>\n",
       "      <td>11.44</td>\n",
       "      <td>22.05</td>\n",
       "      <td>57.70</td>\n",
       "      <td>4.02</td>\n",
       "      <td>9.296</td>\n",
       "      <td>7.559</td>\n",
       "      <td>799</td>\n",
       "      <td>12.589</td>\n",
       "      <td>4.17</td>\n",
       "      <td>11.550</td>\n",
       "      <td>2009</td>\n",
       "      <td>1</td>\n",
       "    </tr>\n",
       "    <tr>\n",
       "      <th>1</th>\n",
       "      <td>14389.200466</td>\n",
       "      <td>14366.176571</td>\n",
       "      <td>234.663</td>\n",
       "      <td>8.3</td>\n",
       "      <td>12.97</td>\n",
       "      <td>11.05</td>\n",
       "      <td>22.22</td>\n",
       "      <td>55.21</td>\n",
       "      <td>-4.32</td>\n",
       "      <td>9.296</td>\n",
       "      <td>7.559</td>\n",
       "      <td>799</td>\n",
       "      <td>12.589</td>\n",
       "      <td>3.87</td>\n",
       "      <td>11.100</td>\n",
       "      <td>2009</td>\n",
       "      <td>2</td>\n",
       "    </tr>\n",
       "    <tr>\n",
       "      <th>2</th>\n",
       "      <td>14340.701639</td>\n",
       "      <td>14351.786822</td>\n",
       "      <td>235.067</td>\n",
       "      <td>8.7</td>\n",
       "      <td>12.97</td>\n",
       "      <td>11.05</td>\n",
       "      <td>22.22</td>\n",
       "      <td>51.50</td>\n",
       "      <td>-6.72</td>\n",
       "      <td>9.296</td>\n",
       "      <td>7.559</td>\n",
       "      <td>799</td>\n",
       "      <td>12.589</td>\n",
       "      <td>3.72</td>\n",
       "      <td>11.650</td>\n",
       "      <td>2009</td>\n",
       "      <td>3</td>\n",
       "    </tr>\n",
       "    <tr>\n",
       "      <th>3</th>\n",
       "      <td>14326.815525</td>\n",
       "      <td>14351.601731</td>\n",
       "      <td>235.582</td>\n",
       "      <td>9.0</td>\n",
       "      <td>12.97</td>\n",
       "      <td>11.05</td>\n",
       "      <td>22.13</td>\n",
       "      <td>56.78</td>\n",
       "      <td>10.25</td>\n",
       "      <td>9.296</td>\n",
       "      <td>7.559</td>\n",
       "      <td>787</td>\n",
       "      <td>12.400</td>\n",
       "      <td>3.62</td>\n",
       "      <td>12.225</td>\n",
       "      <td>2009</td>\n",
       "      <td>4</td>\n",
       "    </tr>\n",
       "    <tr>\n",
       "      <th>4</th>\n",
       "      <td>14345.904809</td>\n",
       "      <td>14368.123959</td>\n",
       "      <td>235.975</td>\n",
       "      <td>9.4</td>\n",
       "      <td>13.32</td>\n",
       "      <td>11.25</td>\n",
       "      <td>22.04</td>\n",
       "      <td>61.95</td>\n",
       "      <td>9.11</td>\n",
       "      <td>9.297</td>\n",
       "      <td>7.400</td>\n",
       "      <td>803</td>\n",
       "      <td>12.384</td>\n",
       "      <td>3.52</td>\n",
       "      <td>12.300</td>\n",
       "      <td>2009</td>\n",
       "      <td>5</td>\n",
       "    </tr>\n",
       "  </tbody>\n",
       "</table>\n",
       "</div>"
      ],
      "text/plain": [
       "   Monthly Nominal GDP Index (inMillion$)  \\\n",
       "0                            14421.752895   \n",
       "1                            14389.200466   \n",
       "2                            14340.701639   \n",
       "3                            14326.815525   \n",
       "4                            14345.904809   \n",
       "\n",
       "   Monthly Real GDP Index (inMillion$)      CPI  unemployment rate  \\\n",
       "0                         14407.053343  233.402                7.8   \n",
       "1                         14366.176571  234.663                8.3   \n",
       "2                         14351.786822  235.067                8.7   \n",
       "3                         14351.601731  235.582                9.0   \n",
       "4                         14368.123959  235.975                9.4   \n",
       "\n",
       "   CommercialBankInterestRateonCreditCardPlans  \\\n",
       "0                                        12.03   \n",
       "1                                        12.97   \n",
       "2                                        12.97   \n",
       "3                                        12.97   \n",
       "4                                        13.32   \n",
       "\n",
       "   Finance Rate on Personal Loans at Commercial Banks, 24 Month Loan  \\\n",
       "0                                              11.44                   \n",
       "1                                              11.05                   \n",
       "2                                              11.05                   \n",
       "3                                              11.05                   \n",
       "4                                              11.25                   \n",
       "\n",
       "   Earnings or wages  in dollars per hour  \\\n",
       "0                                   22.05   \n",
       "1                                   22.22   \n",
       "2                                   22.22   \n",
       "3                                   22.13   \n",
       "4                                   22.04   \n",
       "\n",
       "   Cotton Monthly Price - US cents per Pound(lbs)  Change(in%)  \\\n",
       "0                                           57.70         4.02   \n",
       "1                                           55.21        -4.32   \n",
       "2                                           51.50        -6.72   \n",
       "3                                           56.78        10.25   \n",
       "4                                           61.95         9.11   \n",
       "\n",
       "   Average upland planted(million acres)  \\\n",
       "0                                  9.296   \n",
       "1                                  9.296   \n",
       "2                                  9.296   \n",
       "3                                  9.296   \n",
       "4                                  9.297   \n",
       "\n",
       "   Average upland harvested(million acres)  yieldperharvested acre  \\\n",
       "0                                    7.559                     799   \n",
       "1                                    7.559                     799   \n",
       "2                                    7.559                     799   \n",
       "3                                    7.559                     787   \n",
       "4                                    7.400                     803   \n",
       "\n",
       "   Production (in  480-lb netweright in million bales)  \\\n",
       "0                                             12.589     \n",
       "1                                             12.589     \n",
       "2                                             12.589     \n",
       "3                                             12.400     \n",
       "4                                             12.384     \n",
       "\n",
       "   Mill use  (in  480-lb netweright in million bales)  Exports  Year  Month  \n",
       "0                                               4.17    11.550  2009      1  \n",
       "1                                               3.87    11.100  2009      2  \n",
       "2                                               3.72    11.650  2009      3  \n",
       "3                                               3.62    12.225  2009      4  \n",
       "4                                               3.52    12.300  2009      5  "
      ]
     },
     "execution_count": 330,
     "metadata": {},
     "output_type": "execute_result"
    }
   ],
   "source": [
    "macro.head()"
   ]
  },
  {
   "cell_type": "code",
   "execution_count": 331,
   "metadata": {},
   "outputs": [],
   "source": [
    "mt=pd.merge(macro,data,on=['Year','Month'],how='inner')"
   ]
  },
  {
   "cell_type": "code",
   "execution_count": 332,
   "metadata": {},
   "outputs": [
    {
     "data": {
      "text/html": [
       "<div>\n",
       "<style scoped>\n",
       "    .dataframe tbody tr th:only-of-type {\n",
       "        vertical-align: middle;\n",
       "    }\n",
       "\n",
       "    .dataframe tbody tr th {\n",
       "        vertical-align: top;\n",
       "    }\n",
       "\n",
       "    .dataframe thead th {\n",
       "        text-align: right;\n",
       "    }\n",
       "</style>\n",
       "<table border=\"1\" class=\"dataframe\">\n",
       "  <thead>\n",
       "    <tr style=\"text-align: right;\">\n",
       "      <th></th>\n",
       "      <th>Monthly Nominal GDP Index (inMillion$)</th>\n",
       "      <th>Monthly Real GDP Index (inMillion$)</th>\n",
       "      <th>CPI</th>\n",
       "      <th>unemployment rate</th>\n",
       "      <th>CommercialBankInterestRateonCreditCardPlans</th>\n",
       "      <th>Finance Rate on Personal Loans at Commercial Banks, 24 Month Loan</th>\n",
       "      <th>Earnings or wages  in dollars per hour</th>\n",
       "      <th>Cotton Monthly Price - US cents per Pound(lbs)</th>\n",
       "      <th>Change(in%)</th>\n",
       "      <th>Average upland planted(million acres)</th>\n",
       "      <th>Average upland harvested(million acres)</th>\n",
       "      <th>yieldperharvested acre</th>\n",
       "      <th>Production (in  480-lb netweright in million bales)</th>\n",
       "      <th>Mill use  (in  480-lb netweright in million bales)</th>\n",
       "      <th>Exports</th>\n",
       "      <th>Year</th>\n",
       "      <th>Month</th>\n",
       "      <th>ProductCategory</th>\n",
       "      <th>Sales(In ThousandDollars)</th>\n",
       "      <th>dtype</th>\n",
       "    </tr>\n",
       "  </thead>\n",
       "  <tbody>\n",
       "    <tr>\n",
       "      <th>0</th>\n",
       "      <td>14421.752895</td>\n",
       "      <td>14407.053343</td>\n",
       "      <td>233.402</td>\n",
       "      <td>7.8</td>\n",
       "      <td>12.03</td>\n",
       "      <td>11.44</td>\n",
       "      <td>22.05</td>\n",
       "      <td>57.70</td>\n",
       "      <td>4.02</td>\n",
       "      <td>9.296</td>\n",
       "      <td>7.559</td>\n",
       "      <td>799</td>\n",
       "      <td>12.589</td>\n",
       "      <td>4.17</td>\n",
       "      <td>11.55</td>\n",
       "      <td>2009</td>\n",
       "      <td>1</td>\n",
       "      <td>WomenClothing</td>\n",
       "      <td>1755.0</td>\n",
       "      <td>train</td>\n",
       "    </tr>\n",
       "    <tr>\n",
       "      <th>1</th>\n",
       "      <td>14421.752895</td>\n",
       "      <td>14407.053343</td>\n",
       "      <td>233.402</td>\n",
       "      <td>7.8</td>\n",
       "      <td>12.03</td>\n",
       "      <td>11.44</td>\n",
       "      <td>22.05</td>\n",
       "      <td>57.70</td>\n",
       "      <td>4.02</td>\n",
       "      <td>9.296</td>\n",
       "      <td>7.559</td>\n",
       "      <td>799</td>\n",
       "      <td>12.589</td>\n",
       "      <td>4.17</td>\n",
       "      <td>11.55</td>\n",
       "      <td>2009</td>\n",
       "      <td>1</td>\n",
       "      <td>MenClothing</td>\n",
       "      <td>524.0</td>\n",
       "      <td>train</td>\n",
       "    </tr>\n",
       "    <tr>\n",
       "      <th>2</th>\n",
       "      <td>14421.752895</td>\n",
       "      <td>14407.053343</td>\n",
       "      <td>233.402</td>\n",
       "      <td>7.8</td>\n",
       "      <td>12.03</td>\n",
       "      <td>11.44</td>\n",
       "      <td>22.05</td>\n",
       "      <td>57.70</td>\n",
       "      <td>4.02</td>\n",
       "      <td>9.296</td>\n",
       "      <td>7.559</td>\n",
       "      <td>799</td>\n",
       "      <td>12.589</td>\n",
       "      <td>4.17</td>\n",
       "      <td>11.55</td>\n",
       "      <td>2009</td>\n",
       "      <td>1</td>\n",
       "      <td>OtherClothing</td>\n",
       "      <td>936.0</td>\n",
       "      <td>train</td>\n",
       "    </tr>\n",
       "    <tr>\n",
       "      <th>3</th>\n",
       "      <td>14389.200466</td>\n",
       "      <td>14366.176571</td>\n",
       "      <td>234.663</td>\n",
       "      <td>8.3</td>\n",
       "      <td>12.97</td>\n",
       "      <td>11.05</td>\n",
       "      <td>22.22</td>\n",
       "      <td>55.21</td>\n",
       "      <td>-4.32</td>\n",
       "      <td>9.296</td>\n",
       "      <td>7.559</td>\n",
       "      <td>799</td>\n",
       "      <td>12.589</td>\n",
       "      <td>3.87</td>\n",
       "      <td>11.10</td>\n",
       "      <td>2009</td>\n",
       "      <td>2</td>\n",
       "      <td>WomenClothing</td>\n",
       "      <td>1729.0</td>\n",
       "      <td>train</td>\n",
       "    </tr>\n",
       "    <tr>\n",
       "      <th>4</th>\n",
       "      <td>14389.200466</td>\n",
       "      <td>14366.176571</td>\n",
       "      <td>234.663</td>\n",
       "      <td>8.3</td>\n",
       "      <td>12.97</td>\n",
       "      <td>11.05</td>\n",
       "      <td>22.22</td>\n",
       "      <td>55.21</td>\n",
       "      <td>-4.32</td>\n",
       "      <td>9.296</td>\n",
       "      <td>7.559</td>\n",
       "      <td>799</td>\n",
       "      <td>12.589</td>\n",
       "      <td>3.87</td>\n",
       "      <td>11.10</td>\n",
       "      <td>2009</td>\n",
       "      <td>2</td>\n",
       "      <td>MenClothing</td>\n",
       "      <td>496.0</td>\n",
       "      <td>train</td>\n",
       "    </tr>\n",
       "  </tbody>\n",
       "</table>\n",
       "</div>"
      ],
      "text/plain": [
       "   Monthly Nominal GDP Index (inMillion$)  \\\n",
       "0                            14421.752895   \n",
       "1                            14421.752895   \n",
       "2                            14421.752895   \n",
       "3                            14389.200466   \n",
       "4                            14389.200466   \n",
       "\n",
       "   Monthly Real GDP Index (inMillion$)      CPI  unemployment rate  \\\n",
       "0                         14407.053343  233.402                7.8   \n",
       "1                         14407.053343  233.402                7.8   \n",
       "2                         14407.053343  233.402                7.8   \n",
       "3                         14366.176571  234.663                8.3   \n",
       "4                         14366.176571  234.663                8.3   \n",
       "\n",
       "   CommercialBankInterestRateonCreditCardPlans  \\\n",
       "0                                        12.03   \n",
       "1                                        12.03   \n",
       "2                                        12.03   \n",
       "3                                        12.97   \n",
       "4                                        12.97   \n",
       "\n",
       "   Finance Rate on Personal Loans at Commercial Banks, 24 Month Loan  \\\n",
       "0                                              11.44                   \n",
       "1                                              11.44                   \n",
       "2                                              11.44                   \n",
       "3                                              11.05                   \n",
       "4                                              11.05                   \n",
       "\n",
       "   Earnings or wages  in dollars per hour  \\\n",
       "0                                   22.05   \n",
       "1                                   22.05   \n",
       "2                                   22.05   \n",
       "3                                   22.22   \n",
       "4                                   22.22   \n",
       "\n",
       "   Cotton Monthly Price - US cents per Pound(lbs)  Change(in%)  \\\n",
       "0                                           57.70         4.02   \n",
       "1                                           57.70         4.02   \n",
       "2                                           57.70         4.02   \n",
       "3                                           55.21        -4.32   \n",
       "4                                           55.21        -4.32   \n",
       "\n",
       "   Average upland planted(million acres)  \\\n",
       "0                                  9.296   \n",
       "1                                  9.296   \n",
       "2                                  9.296   \n",
       "3                                  9.296   \n",
       "4                                  9.296   \n",
       "\n",
       "   Average upland harvested(million acres)  yieldperharvested acre  \\\n",
       "0                                    7.559                     799   \n",
       "1                                    7.559                     799   \n",
       "2                                    7.559                     799   \n",
       "3                                    7.559                     799   \n",
       "4                                    7.559                     799   \n",
       "\n",
       "   Production (in  480-lb netweright in million bales)  \\\n",
       "0                                             12.589     \n",
       "1                                             12.589     \n",
       "2                                             12.589     \n",
       "3                                             12.589     \n",
       "4                                             12.589     \n",
       "\n",
       "   Mill use  (in  480-lb netweright in million bales)  Exports  Year  Month  \\\n",
       "0                                               4.17     11.55  2009      1   \n",
       "1                                               4.17     11.55  2009      1   \n",
       "2                                               4.17     11.55  2009      1   \n",
       "3                                               3.87     11.10  2009      2   \n",
       "4                                               3.87     11.10  2009      2   \n",
       "\n",
       "  ProductCategory  Sales(In ThousandDollars)  dtype  \n",
       "0   WomenClothing                     1755.0  train  \n",
       "1     MenClothing                      524.0  train  \n",
       "2   OtherClothing                      936.0  train  \n",
       "3   WomenClothing                     1729.0  train  \n",
       "4     MenClothing                      496.0  train  "
      ]
     },
     "execution_count": 332,
     "metadata": {},
     "output_type": "execute_result"
    }
   ],
   "source": [
    "mt.head()"
   ]
  },
  {
   "cell_type": "code",
   "execution_count": 333,
   "metadata": {},
   "outputs": [],
   "source": [
    "wmt=pd.merge(mt,weath,on=['Year','Month'],how='inner')"
   ]
  },
  {
   "cell_type": "code",
   "execution_count": 334,
   "metadata": {},
   "outputs": [
    {
     "data": {
      "text/html": [
       "<div>\n",
       "<style scoped>\n",
       "    .dataframe tbody tr th:only-of-type {\n",
       "        vertical-align: middle;\n",
       "    }\n",
       "\n",
       "    .dataframe tbody tr th {\n",
       "        vertical-align: top;\n",
       "    }\n",
       "\n",
       "    .dataframe thead th {\n",
       "        text-align: right;\n",
       "    }\n",
       "</style>\n",
       "<table border=\"1\" class=\"dataframe\">\n",
       "  <thead>\n",
       "    <tr style=\"text-align: right;\">\n",
       "      <th></th>\n",
       "      <th>Monthly Nominal GDP Index (inMillion$)</th>\n",
       "      <th>Monthly Real GDP Index (inMillion$)</th>\n",
       "      <th>CPI</th>\n",
       "      <th>unemployment rate</th>\n",
       "      <th>CommercialBankInterestRateonCreditCardPlans</th>\n",
       "      <th>Finance Rate on Personal Loans at Commercial Banks, 24 Month Loan</th>\n",
       "      <th>Earnings or wages  in dollars per hour</th>\n",
       "      <th>Cotton Monthly Price - US cents per Pound(lbs)</th>\n",
       "      <th>Change(in%)</th>\n",
       "      <th>Average upland planted(million acres)</th>\n",
       "      <th>...</th>\n",
       "      <th>Humidity (%) low</th>\n",
       "      <th>Sea Level Press. (hPa) high</th>\n",
       "      <th>Sea Level Press. (hPa) avg</th>\n",
       "      <th>Sea Level Press. (hPa) low</th>\n",
       "      <th>Visibility (km) high</th>\n",
       "      <th>Visibility (km) avg</th>\n",
       "      <th>Visibility (km) low</th>\n",
       "      <th>Wind (km/h) low</th>\n",
       "      <th>Wind (km/h) avg</th>\n",
       "      <th>Wind (km/h) high</th>\n",
       "    </tr>\n",
       "  </thead>\n",
       "  <tbody>\n",
       "    <tr>\n",
       "      <th>0</th>\n",
       "      <td>14421.752895</td>\n",
       "      <td>14407.053343</td>\n",
       "      <td>233.402</td>\n",
       "      <td>7.8</td>\n",
       "      <td>12.03</td>\n",
       "      <td>11.44</td>\n",
       "      <td>22.05</td>\n",
       "      <td>57.7</td>\n",
       "      <td>4.02</td>\n",
       "      <td>9.296</td>\n",
       "      <td>...</td>\n",
       "      <td>32.0</td>\n",
       "      <td>1025.0</td>\n",
       "      <td>1023.0</td>\n",
       "      <td>1015.0</td>\n",
       "      <td>16.0</td>\n",
       "      <td>16.0</td>\n",
       "      <td>16.0</td>\n",
       "      <td>37.0</td>\n",
       "      <td>18.0</td>\n",
       "      <td>60.0</td>\n",
       "    </tr>\n",
       "    <tr>\n",
       "      <th>1</th>\n",
       "      <td>14421.752895</td>\n",
       "      <td>14407.053343</td>\n",
       "      <td>233.402</td>\n",
       "      <td>7.8</td>\n",
       "      <td>12.03</td>\n",
       "      <td>11.44</td>\n",
       "      <td>22.05</td>\n",
       "      <td>57.7</td>\n",
       "      <td>4.02</td>\n",
       "      <td>9.296</td>\n",
       "      <td>...</td>\n",
       "      <td>36.0</td>\n",
       "      <td>1022.0</td>\n",
       "      <td>1012.0</td>\n",
       "      <td>1007.0</td>\n",
       "      <td>16.0</td>\n",
       "      <td>13.0</td>\n",
       "      <td>2.0</td>\n",
       "      <td>27.0</td>\n",
       "      <td>10.0</td>\n",
       "      <td>48.0</td>\n",
       "    </tr>\n",
       "    <tr>\n",
       "      <th>2</th>\n",
       "      <td>14421.752895</td>\n",
       "      <td>14407.053343</td>\n",
       "      <td>233.402</td>\n",
       "      <td>7.8</td>\n",
       "      <td>12.03</td>\n",
       "      <td>11.44</td>\n",
       "      <td>22.05</td>\n",
       "      <td>57.7</td>\n",
       "      <td>4.02</td>\n",
       "      <td>9.296</td>\n",
       "      <td>...</td>\n",
       "      <td>35.0</td>\n",
       "      <td>1018.0</td>\n",
       "      <td>1015.0</td>\n",
       "      <td>1008.0</td>\n",
       "      <td>16.0</td>\n",
       "      <td>16.0</td>\n",
       "      <td>16.0</td>\n",
       "      <td>27.0</td>\n",
       "      <td>16.0</td>\n",
       "      <td>42.0</td>\n",
       "    </tr>\n",
       "    <tr>\n",
       "      <th>3</th>\n",
       "      <td>14421.752895</td>\n",
       "      <td>14407.053343</td>\n",
       "      <td>233.402</td>\n",
       "      <td>7.8</td>\n",
       "      <td>12.03</td>\n",
       "      <td>11.44</td>\n",
       "      <td>22.05</td>\n",
       "      <td>57.7</td>\n",
       "      <td>4.02</td>\n",
       "      <td>9.296</td>\n",
       "      <td>...</td>\n",
       "      <td>29.0</td>\n",
       "      <td>1020.0</td>\n",
       "      <td>1017.0</td>\n",
       "      <td>1015.0</td>\n",
       "      <td>16.0</td>\n",
       "      <td>16.0</td>\n",
       "      <td>16.0</td>\n",
       "      <td>32.0</td>\n",
       "      <td>12.0</td>\n",
       "      <td>40.0</td>\n",
       "    </tr>\n",
       "    <tr>\n",
       "      <th>4</th>\n",
       "      <td>14421.752895</td>\n",
       "      <td>14407.053343</td>\n",
       "      <td>233.402</td>\n",
       "      <td>7.8</td>\n",
       "      <td>12.03</td>\n",
       "      <td>11.44</td>\n",
       "      <td>22.05</td>\n",
       "      <td>57.7</td>\n",
       "      <td>4.02</td>\n",
       "      <td>9.296</td>\n",
       "      <td>...</td>\n",
       "      <td>33.0</td>\n",
       "      <td>1016.0</td>\n",
       "      <td>1014.0</td>\n",
       "      <td>1013.0</td>\n",
       "      <td>16.0</td>\n",
       "      <td>16.0</td>\n",
       "      <td>16.0</td>\n",
       "      <td>23.0</td>\n",
       "      <td>11.0</td>\n",
       "      <td>34.0</td>\n",
       "    </tr>\n",
       "  </tbody>\n",
       "</table>\n",
       "<p>5 rows × 39 columns</p>\n",
       "</div>"
      ],
      "text/plain": [
       "   Monthly Nominal GDP Index (inMillion$)  \\\n",
       "0                            14421.752895   \n",
       "1                            14421.752895   \n",
       "2                            14421.752895   \n",
       "3                            14421.752895   \n",
       "4                            14421.752895   \n",
       "\n",
       "   Monthly Real GDP Index (inMillion$)      CPI  unemployment rate  \\\n",
       "0                         14407.053343  233.402                7.8   \n",
       "1                         14407.053343  233.402                7.8   \n",
       "2                         14407.053343  233.402                7.8   \n",
       "3                         14407.053343  233.402                7.8   \n",
       "4                         14407.053343  233.402                7.8   \n",
       "\n",
       "   CommercialBankInterestRateonCreditCardPlans  \\\n",
       "0                                        12.03   \n",
       "1                                        12.03   \n",
       "2                                        12.03   \n",
       "3                                        12.03   \n",
       "4                                        12.03   \n",
       "\n",
       "   Finance Rate on Personal Loans at Commercial Banks, 24 Month Loan  \\\n",
       "0                                              11.44                   \n",
       "1                                              11.44                   \n",
       "2                                              11.44                   \n",
       "3                                              11.44                   \n",
       "4                                              11.44                   \n",
       "\n",
       "   Earnings or wages  in dollars per hour  \\\n",
       "0                                   22.05   \n",
       "1                                   22.05   \n",
       "2                                   22.05   \n",
       "3                                   22.05   \n",
       "4                                   22.05   \n",
       "\n",
       "   Cotton Monthly Price - US cents per Pound(lbs)  Change(in%)  \\\n",
       "0                                            57.7         4.02   \n",
       "1                                            57.7         4.02   \n",
       "2                                            57.7         4.02   \n",
       "3                                            57.7         4.02   \n",
       "4                                            57.7         4.02   \n",
       "\n",
       "   Average upland planted(million acres)  ...  Humidity (%) low  \\\n",
       "0                                  9.296  ...              32.0   \n",
       "1                                  9.296  ...              36.0   \n",
       "2                                  9.296  ...              35.0   \n",
       "3                                  9.296  ...              29.0   \n",
       "4                                  9.296  ...              33.0   \n",
       "\n",
       "   Sea Level Press. (hPa) high  Sea Level Press. (hPa) avg  \\\n",
       "0                       1025.0                      1023.0   \n",
       "1                       1022.0                      1012.0   \n",
       "2                       1018.0                      1015.0   \n",
       "3                       1020.0                      1017.0   \n",
       "4                       1016.0                      1014.0   \n",
       "\n",
       "   Sea Level Press. (hPa) low  Visibility (km) high  Visibility (km) avg  \\\n",
       "0                      1015.0                  16.0                 16.0   \n",
       "1                      1007.0                  16.0                 13.0   \n",
       "2                      1008.0                  16.0                 16.0   \n",
       "3                      1015.0                  16.0                 16.0   \n",
       "4                      1013.0                  16.0                 16.0   \n",
       "\n",
       "   Visibility (km) low Wind (km/h) low  Wind (km/h) avg Wind (km/h) high  \n",
       "0                 16.0            37.0             18.0             60.0  \n",
       "1                  2.0            27.0             10.0             48.0  \n",
       "2                 16.0            27.0             16.0             42.0  \n",
       "3                 16.0            32.0             12.0             40.0  \n",
       "4                 16.0            23.0             11.0             34.0  \n",
       "\n",
       "[5 rows x 39 columns]"
      ]
     },
     "execution_count": 334,
     "metadata": {},
     "output_type": "execute_result"
    }
   ],
   "source": [
    "wmt.head()"
   ]
  },
  {
   "cell_type": "code",
   "execution_count": 335,
   "metadata": {},
   "outputs": [],
   "source": [
    "#wmt=pd.get_dummies(['ProductCategory'],drop_first=True)"
   ]
  },
  {
   "cell_type": "code",
   "execution_count": 336,
   "metadata": {},
   "outputs": [],
   "source": [
    "wmt['ProductCategory']=wmt['ProductCategory'].replace(['WomenClothing','MenClothing','OtherClothing'],[1,2,3])"
   ]
  },
  {
   "cell_type": "code",
   "execution_count": 337,
   "metadata": {},
   "outputs": [
    {
     "data": {
      "text/plain": [
       "Monthly Nominal GDP Index (inMillion$)                                  0\n",
       "Monthly Real GDP Index (inMillion$)                                     0\n",
       "CPI                                                                     0\n",
       "unemployment rate                                                       0\n",
       "CommercialBankInterestRateonCreditCardPlans                             0\n",
       "Finance Rate on Personal Loans at Commercial Banks, 24 Month Loan       0\n",
       "Earnings or wages  in dollars per hour                                  0\n",
       "Cotton Monthly Price - US cents per Pound(lbs)                          0\n",
       "Change(in%)                                                             0\n",
       "Average upland planted(million acres)                                   0\n",
       "Average upland harvested(million acres)                                 0\n",
       "yieldperharvested acre                                                  0\n",
       "Production (in  480-lb netweright in million bales)                     0\n",
       "Mill use  (in  480-lb netweright in million bales)                      0\n",
       "Exports                                                                 0\n",
       "Year                                                                    0\n",
       "Month                                                                   0\n",
       "ProductCategory                                                         0\n",
       "Sales(In ThousandDollars)                                            1404\n",
       "dtype                                                                   0\n",
       "Day                                                                     0\n",
       "Temp high (°C)                                                          0\n",
       "Temp avg (°C)                                                           0\n",
       "Temp low (°C)                                                           0\n",
       "Dew Point high (°C)                                                     0\n",
       "Dew Point avg (°C)                                                      0\n",
       "Dew Point low (°C)                                                      0\n",
       "Humidity (%) high                                                       0\n",
       "Humidity (%) avg                                                        0\n",
       "Humidity (%) low                                                        0\n",
       "Sea Level Press. (hPa) high                                             0\n",
       "Sea Level Press. (hPa) avg                                              0\n",
       "Sea Level Press. (hPa) low                                              0\n",
       "Visibility (km) high                                                    0\n",
       "Visibility (km) avg                                                     0\n",
       "Visibility (km) low                                                     0\n",
       "Wind (km/h) low                                                         0\n",
       "Wind (km/h) avg                                                         0\n",
       "Wind (km/h) high                                                        0\n",
       "dtype: int64"
      ]
     },
     "execution_count": 337,
     "metadata": {},
     "output_type": "execute_result"
    }
   ],
   "source": [
    "wmt.isnull().sum()"
   ]
  },
  {
   "cell_type": "code",
   "execution_count": 338,
   "metadata": {},
   "outputs": [
    {
     "name": "stdout",
     "output_type": "stream",
     "text": [
      "<class 'pandas.core.frame.DataFrame'>\n",
      "Int64Index: 7488 entries, 0 to 7487\n",
      "Data columns (total 39 columns):\n",
      "Monthly Nominal GDP Index (inMillion$)                               7488 non-null float64\n",
      "Monthly Real GDP Index (inMillion$)                                  7488 non-null float64\n",
      "CPI                                                                  7488 non-null float64\n",
      "unemployment rate                                                    7488 non-null float64\n",
      "CommercialBankInterestRateonCreditCardPlans                          7488 non-null float64\n",
      "Finance Rate on Personal Loans at Commercial Banks, 24 Month Loan    7488 non-null float64\n",
      "Earnings or wages  in dollars per hour                               7488 non-null float64\n",
      "Cotton Monthly Price - US cents per Pound(lbs)                       7488 non-null float64\n",
      "Change(in%)                                                          7488 non-null float64\n",
      "Average upland planted(million acres)                                7488 non-null float64\n",
      "Average upland harvested(million acres)                              7488 non-null float64\n",
      "yieldperharvested acre                                               7488 non-null int64\n",
      "Production (in  480-lb netweright in million bales)                  7488 non-null float64\n",
      "Mill use  (in  480-lb netweright in million bales)                   7488 non-null float64\n",
      "Exports                                                              7488 non-null float64\n",
      "Year                                                                 7488 non-null int32\n",
      "Month                                                                7488 non-null int64\n",
      "ProductCategory                                                      7488 non-null int64\n",
      "Sales(In ThousandDollars)                                            6084 non-null float64\n",
      "dtype                                                                7488 non-null object\n",
      "Day                                                                  7488 non-null float64\n",
      "Temp high (°C)                                                       7488 non-null float64\n",
      "Temp avg (°C)                                                        7488 non-null float64\n",
      "Temp low (°C)                                                        7488 non-null float64\n",
      "Dew Point high (°C)                                                  7488 non-null float64\n",
      "Dew Point avg (°C)                                                   7488 non-null float64\n",
      "Dew Point low (°C)                                                   7488 non-null float64\n",
      "Humidity (%) high                                                    7488 non-null float64\n",
      "Humidity (%) avg                                                     7488 non-null float64\n",
      "Humidity (%) low                                                     7488 non-null float64\n",
      "Sea Level Press. (hPa) high                                          7488 non-null float64\n",
      "Sea Level Press. (hPa) avg                                           7488 non-null float64\n",
      "Sea Level Press. (hPa) low                                           7488 non-null float64\n",
      "Visibility (km) high                                                 7488 non-null float64\n",
      "Visibility (km) avg                                                  7488 non-null float64\n",
      "Visibility (km) low                                                  7488 non-null float64\n",
      "Wind (km/h) low                                                      7488 non-null float64\n",
      "Wind (km/h) avg                                                      7488 non-null float64\n",
      "Wind (km/h) high                                                     7488 non-null float64\n",
      "dtypes: float64(34), int32(1), int64(3), object(1)\n",
      "memory usage: 2.3+ MB\n"
     ]
    }
   ],
   "source": [
    "wmt.info()"
   ]
  },
  {
   "cell_type": "code",
   "execution_count": 339,
   "metadata": {},
   "outputs": [
    {
     "data": {
      "text/html": [
       "<div>\n",
       "<style scoped>\n",
       "    .dataframe tbody tr th:only-of-type {\n",
       "        vertical-align: middle;\n",
       "    }\n",
       "\n",
       "    .dataframe tbody tr th {\n",
       "        vertical-align: top;\n",
       "    }\n",
       "\n",
       "    .dataframe thead th {\n",
       "        text-align: right;\n",
       "    }\n",
       "</style>\n",
       "<table border=\"1\" class=\"dataframe\">\n",
       "  <thead>\n",
       "    <tr style=\"text-align: right;\">\n",
       "      <th></th>\n",
       "      <th>Year</th>\n",
       "      <th>MonthDate</th>\n",
       "      <th>Event</th>\n",
       "      <th>DayCategory</th>\n",
       "    </tr>\n",
       "  </thead>\n",
       "  <tbody>\n",
       "    <tr>\n",
       "      <th>0</th>\n",
       "      <td>2009</td>\n",
       "      <td>2001-01-01</td>\n",
       "      <td>New Year's Day</td>\n",
       "      <td>Federal Holiday</td>\n",
       "    </tr>\n",
       "    <tr>\n",
       "      <th>1</th>\n",
       "      <td>2009</td>\n",
       "      <td>2019-01-01</td>\n",
       "      <td>Martin Luther King Jr. Day</td>\n",
       "      <td>Federal Holiday</td>\n",
       "    </tr>\n",
       "    <tr>\n",
       "      <th>2</th>\n",
       "      <td>2009</td>\n",
       "      <td>2014-02-01</td>\n",
       "      <td>Valentine's Day</td>\n",
       "      <td>Event</td>\n",
       "    </tr>\n",
       "    <tr>\n",
       "      <th>3</th>\n",
       "      <td>2009</td>\n",
       "      <td>2016-02-01</td>\n",
       "      <td>Presidents' Day</td>\n",
       "      <td>Federal Holiday</td>\n",
       "    </tr>\n",
       "    <tr>\n",
       "      <th>4</th>\n",
       "      <td>2009</td>\n",
       "      <td>2012-04-01</td>\n",
       "      <td>Easter Sunday</td>\n",
       "      <td>Event</td>\n",
       "    </tr>\n",
       "  </tbody>\n",
       "</table>\n",
       "</div>"
      ],
      "text/plain": [
       "   Year  MonthDate                       Event      DayCategory\n",
       "0  2009 2001-01-01              New Year's Day  Federal Holiday\n",
       "1  2009 2019-01-01  Martin Luther King Jr. Day  Federal Holiday\n",
       "2  2009 2014-02-01             Valentine's Day            Event\n",
       "3  2009 2016-02-01             Presidents' Day  Federal Holiday\n",
       "4  2009 2012-04-01               Easter Sunday            Event"
      ]
     },
     "execution_count": 339,
     "metadata": {},
     "output_type": "execute_result"
    }
   ],
   "source": [
    "h=pd.read_excel('events_holidays.xlsx')\n",
    "h.head()"
   ]
  },
  {
   "cell_type": "code",
   "execution_count": 340,
   "metadata": {},
   "outputs": [
    {
     "data": {
      "text/plain": [
       "array(['Federal Holiday', 'Event'], dtype=object)"
      ]
     },
     "execution_count": 340,
     "metadata": {},
     "output_type": "execute_result"
    }
   ],
   "source": [
    "h.DayCategory.unique()"
   ]
  },
  {
   "cell_type": "code",
   "execution_count": 341,
   "metadata": {},
   "outputs": [],
   "source": [
    "h['DayCategory']=h['DayCategory'].replace({'Federal Holiday':1,'Event':2})"
   ]
  },
  {
   "cell_type": "code",
   "execution_count": 342,
   "metadata": {},
   "outputs": [
    {
     "data": {
      "text/plain": [
       "array([\"New Year's Day\", 'Martin Luther King Jr. Day', \"Valentine's Day\",\n",
       "       \"Presidents' Day\", 'Easter Sunday', \"Mother's Day\", 'Memorial Day',\n",
       "       \"Father's Day\", \"'Independence Day' observed\", 'Independence Day',\n",
       "       'Labor Day', 'Columbus Day (Most regions)', 'Halloween',\n",
       "       'Veterans Day', 'Thanksgiving Day', 'Christmas Eve',\n",
       "       'Christmas Day', \"New Year's Eve\", \"'Christmas Day' observed\",\n",
       "       \"'New Year's Day' observed\", 'Election Day',\n",
       "       \"Thomas Jefferson's Birthday\", 'Day After Christmas Day'],\n",
       "      dtype=object)"
      ]
     },
     "execution_count": 342,
     "metadata": {},
     "output_type": "execute_result"
    }
   ],
   "source": [
    "h.Event.unique()"
   ]
  },
  {
   "cell_type": "code",
   "execution_count": 343,
   "metadata": {},
   "outputs": [],
   "source": [
    "h['Event']=h['Event'].replace([\"New Year's Day\", 'Martin Luther King Jr. Day', \"Valentine's Day\",\n",
    "       \"Presidents' Day\", 'Easter Sunday', \"Mother's Day\", 'Memorial Day',\n",
    "       \"Father's Day\", \"'Independence Day' observed\", 'Independence Day',\n",
    "       'Labor Day', 'Columbus Day (Most regions)', 'Halloween',\n",
    "       'Veterans Day', 'Thanksgiving Day', 'Christmas Eve',\n",
    "       'Christmas Day', \"New Year's Eve\", \"'Christmas Day' observed\",\n",
    "       \"'New Year's Day' observed\", 'Election Day',\n",
    "       \"Thomas Jefferson's Birthday\", 'Day After Christmas Day'],[1,2,3,4,5,6,7,8,9,10,11,12,13,14,15,16,17,18,19,20,21,22,23])"
   ]
  },
  {
   "cell_type": "code",
   "execution_count": 344,
   "metadata": {},
   "outputs": [
    {
     "name": "stdout",
     "output_type": "stream",
     "text": [
      "<class 'pandas.core.frame.DataFrame'>\n",
      "RangeIndex: 150 entries, 0 to 149\n",
      "Data columns (total 4 columns):\n",
      "Year           150 non-null int64\n",
      "MonthDate      150 non-null datetime64[ns]\n",
      "Event          150 non-null int64\n",
      "DayCategory    150 non-null int64\n",
      "dtypes: datetime64[ns](1), int64(3)\n",
      "memory usage: 4.8 KB\n"
     ]
    }
   ],
   "source": [
    "h.info()"
   ]
  },
  {
   "cell_type": "code",
   "execution_count": 345,
   "metadata": {},
   "outputs": [],
   "source": [
    "h['MonthDate']=h['MonthDate'].astype(str)"
   ]
  },
  {
   "cell_type": "code",
   "execution_count": 346,
   "metadata": {},
   "outputs": [],
   "source": [
    "h['Month']=h['MonthDate'].apply(lambda x: x[6:7])"
   ]
  },
  {
   "cell_type": "code",
   "execution_count": 347,
   "metadata": {},
   "outputs": [],
   "source": [
    "h.drop(['MonthDate'],axis=1,inplace=True)"
   ]
  },
  {
   "cell_type": "code",
   "execution_count": 348,
   "metadata": {},
   "outputs": [
    {
     "name": "stdout",
     "output_type": "stream",
     "text": [
      "<class 'pandas.core.frame.DataFrame'>\n",
      "RangeIndex: 150 entries, 0 to 149\n",
      "Data columns (total 4 columns):\n",
      "Year           150 non-null int64\n",
      "Event          150 non-null int64\n",
      "DayCategory    150 non-null int64\n",
      "Month          150 non-null object\n",
      "dtypes: int64(3), object(1)\n",
      "memory usage: 4.8+ KB\n"
     ]
    }
   ],
   "source": [
    "h.info()"
   ]
  },
  {
   "cell_type": "code",
   "execution_count": 349,
   "metadata": {},
   "outputs": [],
   "source": [
    "h['Month']=h['Month'].astype(int)"
   ]
  },
  {
   "cell_type": "code",
   "execution_count": 350,
   "metadata": {},
   "outputs": [
    {
     "name": "stdout",
     "output_type": "stream",
     "text": [
      "<class 'pandas.core.frame.DataFrame'>\n",
      "RangeIndex: 150 entries, 0 to 149\n",
      "Data columns (total 4 columns):\n",
      "Year           150 non-null int64\n",
      "Event          150 non-null int64\n",
      "DayCategory    150 non-null int64\n",
      "Month          150 non-null int32\n",
      "dtypes: int32(1), int64(3)\n",
      "memory usage: 4.2 KB\n"
     ]
    }
   ],
   "source": [
    "h.info()"
   ]
  },
  {
   "cell_type": "code",
   "execution_count": 351,
   "metadata": {},
   "outputs": [],
   "source": [
    "wmth=pd.merge(wmt,h,on=['Year','Month'],how='inner')"
   ]
  },
  {
   "cell_type": "code",
   "execution_count": 352,
   "metadata": {},
   "outputs": [
    {
     "data": {
      "text/plain": [
       "Index(['Monthly Nominal GDP Index (inMillion$)',\n",
       "       'Monthly Real GDP Index (inMillion$)', 'CPI', 'unemployment rate',\n",
       "       'CommercialBankInterestRateonCreditCardPlans',\n",
       "       'Finance Rate on Personal Loans at Commercial Banks, 24 Month Loan',\n",
       "       'Earnings or wages  in dollars per hour',\n",
       "       'Cotton Monthly Price - US cents per Pound(lbs)', 'Change(in%)',\n",
       "       'Average upland planted(million acres)',\n",
       "       'Average upland harvested(million acres)', 'yieldperharvested acre',\n",
       "       'Production (in  480-lb netweright in million bales)',\n",
       "       'Mill use  (in  480-lb netweright in million bales)', 'Exports', 'Year',\n",
       "       'Month', 'ProductCategory', 'Sales(In ThousandDollars)', 'dtype', 'Day',\n",
       "       'Temp high (°C)', 'Temp avg (°C)', 'Temp low (°C)',\n",
       "       'Dew Point high (°C)', 'Dew Point avg (°C)', 'Dew Point low (°C)',\n",
       "       'Humidity (%) high', 'Humidity (%) avg', 'Humidity (%) low',\n",
       "       'Sea Level Press. (hPa) high', 'Sea Level Press. (hPa) avg',\n",
       "       'Sea Level Press. (hPa) low', 'Visibility (km) high',\n",
       "       'Visibility (km) avg', 'Visibility (km) low', 'Wind (km/h) low',\n",
       "       'Wind (km/h) avg', 'Wind (km/h) high', 'Event', 'DayCategory'],\n",
       "      dtype='object')"
      ]
     },
     "execution_count": 352,
     "metadata": {},
     "output_type": "execute_result"
    }
   ],
   "source": [
    "wmth.columns"
   ]
  },
  {
   "cell_type": "code",
   "execution_count": 354,
   "metadata": {},
   "outputs": [],
   "source": [
    "wmth.drop(['CommercialBankInterestRateonCreditCardPlans'],axis=1,inplace=True)"
   ]
  },
  {
   "cell_type": "code",
   "execution_count": 355,
   "metadata": {},
   "outputs": [],
   "source": [
    "wmth.drop(['Temp high (°C)','Temp low (°C)'],axis=1,inplace=True)"
   ]
  },
  {
   "cell_type": "code",
   "execution_count": 356,
   "metadata": {},
   "outputs": [],
   "source": [
    "wmth.drop(['Dew Point high (°C)','Dew Point low (°C)'],axis=1,inplace=True)"
   ]
  },
  {
   "cell_type": "code",
   "execution_count": 362,
   "metadata": {},
   "outputs": [],
   "source": [
    "wmth.drop(['Sea Level Press.\\xa0(hPa) high','Sea Level Press.\\xa0(hPa) low'],axis=1,inplace=True)"
   ]
  },
  {
   "cell_type": "code",
   "execution_count": 363,
   "metadata": {},
   "outputs": [],
   "source": [
    "wmth.drop(['Visibility\\xa0(km) high', 'Visibility\\xa0(km) low'],axis=1,inplace=True)"
   ]
  },
  {
   "cell_type": "code",
   "execution_count": 364,
   "metadata": {},
   "outputs": [],
   "source": [
    "wmth.drop(['Wind\\xa0(km/h) high','Wind\\xa0(km/h) low'],axis=1,inplace=True)"
   ]
  },
  {
   "cell_type": "code",
   "execution_count": null,
   "metadata": {},
   "outputs": [],
   "source": []
  },
  {
   "cell_type": "code",
   "execution_count": 365,
   "metadata": {},
   "outputs": [],
   "source": [
    "dftrain=wmth[wmth['dtype']=='train']"
   ]
  },
  {
   "cell_type": "code",
   "execution_count": 366,
   "metadata": {},
   "outputs": [],
   "source": [
    "dftrain=dftrain.drop(['dtype'],axis=1)"
   ]
  },
  {
   "cell_type": "code",
   "execution_count": 367,
   "metadata": {},
   "outputs": [
    {
     "data": {
      "text/html": [
       "<div>\n",
       "<style scoped>\n",
       "    .dataframe tbody tr th:only-of-type {\n",
       "        vertical-align: middle;\n",
       "    }\n",
       "\n",
       "    .dataframe tbody tr th {\n",
       "        vertical-align: top;\n",
       "    }\n",
       "\n",
       "    .dataframe thead th {\n",
       "        text-align: right;\n",
       "    }\n",
       "</style>\n",
       "<table border=\"1\" class=\"dataframe\">\n",
       "  <thead>\n",
       "    <tr style=\"text-align: right;\">\n",
       "      <th></th>\n",
       "      <th>Monthly Nominal GDP Index (inMillion$)</th>\n",
       "      <th>Monthly Real GDP Index (inMillion$)</th>\n",
       "      <th>CPI</th>\n",
       "      <th>unemployment rate</th>\n",
       "      <th>Finance Rate on Personal Loans at Commercial Banks, 24 Month Loan</th>\n",
       "      <th>Earnings or wages  in dollars per hour</th>\n",
       "      <th>Cotton Monthly Price - US cents per Pound(lbs)</th>\n",
       "      <th>Change(in%)</th>\n",
       "      <th>Average upland planted(million acres)</th>\n",
       "      <th>Average upland harvested(million acres)</th>\n",
       "      <th>...</th>\n",
       "      <th>Temp avg (°C)</th>\n",
       "      <th>Dew Point avg (°C)</th>\n",
       "      <th>Humidity (%) high</th>\n",
       "      <th>Humidity (%) avg</th>\n",
       "      <th>Humidity (%) low</th>\n",
       "      <th>Sea Level Press. (hPa) avg</th>\n",
       "      <th>Visibility (km) avg</th>\n",
       "      <th>Wind (km/h) avg</th>\n",
       "      <th>Event</th>\n",
       "      <th>DayCategory</th>\n",
       "    </tr>\n",
       "  </thead>\n",
       "  <tbody>\n",
       "    <tr>\n",
       "      <th>0</th>\n",
       "      <td>14421.752895</td>\n",
       "      <td>14407.053343</td>\n",
       "      <td>233.402</td>\n",
       "      <td>7.8</td>\n",
       "      <td>11.44</td>\n",
       "      <td>22.05</td>\n",
       "      <td>57.7</td>\n",
       "      <td>4.02</td>\n",
       "      <td>9.296</td>\n",
       "      <td>7.559</td>\n",
       "      <td>...</td>\n",
       "      <td>-6.0</td>\n",
       "      <td>-17.0</td>\n",
       "      <td>54.0</td>\n",
       "      <td>43.0</td>\n",
       "      <td>32.0</td>\n",
       "      <td>1023.0</td>\n",
       "      <td>16.0</td>\n",
       "      <td>18.0</td>\n",
       "      <td>1</td>\n",
       "      <td>1</td>\n",
       "    </tr>\n",
       "  </tbody>\n",
       "</table>\n",
       "<p>1 rows × 29 columns</p>\n",
       "</div>"
      ],
      "text/plain": [
       "   Monthly Nominal GDP Index (inMillion$)  \\\n",
       "0                            14421.752895   \n",
       "\n",
       "   Monthly Real GDP Index (inMillion$)      CPI  unemployment rate  \\\n",
       "0                         14407.053343  233.402                7.8   \n",
       "\n",
       "   Finance Rate on Personal Loans at Commercial Banks, 24 Month Loan  \\\n",
       "0                                              11.44                   \n",
       "\n",
       "   Earnings or wages  in dollars per hour  \\\n",
       "0                                   22.05   \n",
       "\n",
       "   Cotton Monthly Price - US cents per Pound(lbs)  Change(in%)  \\\n",
       "0                                            57.7         4.02   \n",
       "\n",
       "   Average upland planted(million acres)  \\\n",
       "0                                  9.296   \n",
       "\n",
       "   Average upland harvested(million acres)  ...  Temp avg (°C)  \\\n",
       "0                                    7.559  ...           -6.0   \n",
       "\n",
       "   Dew Point avg (°C)  Humidity (%) high  Humidity (%) avg  Humidity (%) low  \\\n",
       "0               -17.0               54.0              43.0              32.0   \n",
       "\n",
       "   Sea Level Press. (hPa) avg  Visibility (km) avg  Wind (km/h) avg  Event  \\\n",
       "0                      1023.0                 16.0             18.0      1   \n",
       "\n",
       "   DayCategory  \n",
       "0            1  \n",
       "\n",
       "[1 rows x 29 columns]"
      ]
     },
     "execution_count": 367,
     "metadata": {},
     "output_type": "execute_result"
    }
   ],
   "source": [
    "dftrain.head(1)"
   ]
  },
  {
   "cell_type": "code",
   "execution_count": 368,
   "metadata": {},
   "outputs": [],
   "source": [
    "dftest=wmth[wmth['dtype']=='test']"
   ]
  },
  {
   "cell_type": "code",
   "execution_count": 369,
   "metadata": {},
   "outputs": [],
   "source": [
    "dftest=dftest.drop(['dtype'],axis=1)"
   ]
  },
  {
   "cell_type": "code",
   "execution_count": 370,
   "metadata": {},
   "outputs": [
    {
     "data": {
      "text/html": [
       "<div>\n",
       "<style scoped>\n",
       "    .dataframe tbody tr th:only-of-type {\n",
       "        vertical-align: middle;\n",
       "    }\n",
       "\n",
       "    .dataframe tbody tr th {\n",
       "        vertical-align: top;\n",
       "    }\n",
       "\n",
       "    .dataframe thead th {\n",
       "        text-align: right;\n",
       "    }\n",
       "</style>\n",
       "<table border=\"1\" class=\"dataframe\">\n",
       "  <thead>\n",
       "    <tr style=\"text-align: right;\">\n",
       "      <th></th>\n",
       "      <th>Monthly Nominal GDP Index (inMillion$)</th>\n",
       "      <th>Monthly Real GDP Index (inMillion$)</th>\n",
       "      <th>CPI</th>\n",
       "      <th>unemployment rate</th>\n",
       "      <th>Finance Rate on Personal Loans at Commercial Banks, 24 Month Loan</th>\n",
       "      <th>Earnings or wages  in dollars per hour</th>\n",
       "      <th>Cotton Monthly Price - US cents per Pound(lbs)</th>\n",
       "      <th>Change(in%)</th>\n",
       "      <th>Average upland planted(million acres)</th>\n",
       "      <th>Average upland harvested(million acres)</th>\n",
       "      <th>...</th>\n",
       "      <th>Temp avg (°C)</th>\n",
       "      <th>Dew Point avg (°C)</th>\n",
       "      <th>Humidity (%) high</th>\n",
       "      <th>Humidity (%) avg</th>\n",
       "      <th>Humidity (%) low</th>\n",
       "      <th>Sea Level Press. (hPa) avg</th>\n",
       "      <th>Visibility (km) avg</th>\n",
       "      <th>Wind (km/h) avg</th>\n",
       "      <th>Event</th>\n",
       "      <th>DayCategory</th>\n",
       "    </tr>\n",
       "  </thead>\n",
       "  <tbody>\n",
       "    <tr>\n",
       "      <th>8445</th>\n",
       "      <td>17792.116953</td>\n",
       "      <td>16319.786314</td>\n",
       "      <td>258.376</td>\n",
       "      <td>5.7</td>\n",
       "      <td>10.47</td>\n",
       "      <td>24.88</td>\n",
       "      <td>67.35</td>\n",
       "      <td>-1.39</td>\n",
       "      <td>10.845</td>\n",
       "      <td>9.518</td>\n",
       "      <td>...</td>\n",
       "      <td>1.0</td>\n",
       "      <td>-12.0</td>\n",
       "      <td>46.0</td>\n",
       "      <td>37.0</td>\n",
       "      <td>27.0</td>\n",
       "      <td>1018.0</td>\n",
       "      <td>16.0</td>\n",
       "      <td>11.0</td>\n",
       "      <td>1</td>\n",
       "      <td>1</td>\n",
       "    </tr>\n",
       "    <tr>\n",
       "      <th>8446</th>\n",
       "      <td>17792.116953</td>\n",
       "      <td>16319.786314</td>\n",
       "      <td>258.376</td>\n",
       "      <td>5.7</td>\n",
       "      <td>10.47</td>\n",
       "      <td>24.88</td>\n",
       "      <td>67.35</td>\n",
       "      <td>-1.39</td>\n",
       "      <td>10.845</td>\n",
       "      <td>9.518</td>\n",
       "      <td>...</td>\n",
       "      <td>1.0</td>\n",
       "      <td>-12.0</td>\n",
       "      <td>46.0</td>\n",
       "      <td>37.0</td>\n",
       "      <td>27.0</td>\n",
       "      <td>1018.0</td>\n",
       "      <td>16.0</td>\n",
       "      <td>11.0</td>\n",
       "      <td>2</td>\n",
       "      <td>1</td>\n",
       "    </tr>\n",
       "    <tr>\n",
       "      <th>8447</th>\n",
       "      <td>17792.116953</td>\n",
       "      <td>16319.786314</td>\n",
       "      <td>258.376</td>\n",
       "      <td>5.7</td>\n",
       "      <td>10.47</td>\n",
       "      <td>24.88</td>\n",
       "      <td>67.35</td>\n",
       "      <td>-1.39</td>\n",
       "      <td>10.845</td>\n",
       "      <td>9.518</td>\n",
       "      <td>...</td>\n",
       "      <td>1.0</td>\n",
       "      <td>-12.0</td>\n",
       "      <td>46.0</td>\n",
       "      <td>37.0</td>\n",
       "      <td>27.0</td>\n",
       "      <td>1018.0</td>\n",
       "      <td>16.0</td>\n",
       "      <td>11.0</td>\n",
       "      <td>14</td>\n",
       "      <td>1</td>\n",
       "    </tr>\n",
       "    <tr>\n",
       "      <th>8448</th>\n",
       "      <td>17792.116953</td>\n",
       "      <td>16319.786314</td>\n",
       "      <td>258.376</td>\n",
       "      <td>5.7</td>\n",
       "      <td>10.47</td>\n",
       "      <td>24.88</td>\n",
       "      <td>67.35</td>\n",
       "      <td>-1.39</td>\n",
       "      <td>10.845</td>\n",
       "      <td>9.518</td>\n",
       "      <td>...</td>\n",
       "      <td>1.0</td>\n",
       "      <td>-12.0</td>\n",
       "      <td>46.0</td>\n",
       "      <td>37.0</td>\n",
       "      <td>27.0</td>\n",
       "      <td>1018.0</td>\n",
       "      <td>16.0</td>\n",
       "      <td>11.0</td>\n",
       "      <td>15</td>\n",
       "      <td>1</td>\n",
       "    </tr>\n",
       "    <tr>\n",
       "      <th>8449</th>\n",
       "      <td>17792.116953</td>\n",
       "      <td>16319.786314</td>\n",
       "      <td>258.376</td>\n",
       "      <td>5.7</td>\n",
       "      <td>10.47</td>\n",
       "      <td>24.88</td>\n",
       "      <td>67.35</td>\n",
       "      <td>-1.39</td>\n",
       "      <td>10.845</td>\n",
       "      <td>9.518</td>\n",
       "      <td>...</td>\n",
       "      <td>4.0</td>\n",
       "      <td>-8.0</td>\n",
       "      <td>52.0</td>\n",
       "      <td>43.0</td>\n",
       "      <td>33.0</td>\n",
       "      <td>1023.0</td>\n",
       "      <td>16.0</td>\n",
       "      <td>11.0</td>\n",
       "      <td>1</td>\n",
       "      <td>1</td>\n",
       "    </tr>\n",
       "  </tbody>\n",
       "</table>\n",
       "<p>5 rows × 29 columns</p>\n",
       "</div>"
      ],
      "text/plain": [
       "      Monthly Nominal GDP Index (inMillion$)  \\\n",
       "8445                            17792.116953   \n",
       "8446                            17792.116953   \n",
       "8447                            17792.116953   \n",
       "8448                            17792.116953   \n",
       "8449                            17792.116953   \n",
       "\n",
       "      Monthly Real GDP Index (inMillion$)      CPI  unemployment rate  \\\n",
       "8445                         16319.786314  258.376                5.7   \n",
       "8446                         16319.786314  258.376                5.7   \n",
       "8447                         16319.786314  258.376                5.7   \n",
       "8448                         16319.786314  258.376                5.7   \n",
       "8449                         16319.786314  258.376                5.7   \n",
       "\n",
       "      Finance Rate on Personal Loans at Commercial Banks, 24 Month Loan  \\\n",
       "8445                                              10.47                   \n",
       "8446                                              10.47                   \n",
       "8447                                              10.47                   \n",
       "8448                                              10.47                   \n",
       "8449                                              10.47                   \n",
       "\n",
       "      Earnings or wages  in dollars per hour  \\\n",
       "8445                                   24.88   \n",
       "8446                                   24.88   \n",
       "8447                                   24.88   \n",
       "8448                                   24.88   \n",
       "8449                                   24.88   \n",
       "\n",
       "      Cotton Monthly Price - US cents per Pound(lbs)  Change(in%)  \\\n",
       "8445                                           67.35        -1.39   \n",
       "8446                                           67.35        -1.39   \n",
       "8447                                           67.35        -1.39   \n",
       "8448                                           67.35        -1.39   \n",
       "8449                                           67.35        -1.39   \n",
       "\n",
       "      Average upland planted(million acres)  \\\n",
       "8445                                 10.845   \n",
       "8446                                 10.845   \n",
       "8447                                 10.845   \n",
       "8448                                 10.845   \n",
       "8449                                 10.845   \n",
       "\n",
       "      Average upland harvested(million acres)  ...  Temp avg (°C)  \\\n",
       "8445                                    9.518  ...            1.0   \n",
       "8446                                    9.518  ...            1.0   \n",
       "8447                                    9.518  ...            1.0   \n",
       "8448                                    9.518  ...            1.0   \n",
       "8449                                    9.518  ...            4.0   \n",
       "\n",
       "      Dew Point avg (°C)  Humidity (%) high  Humidity (%) avg  \\\n",
       "8445               -12.0               46.0              37.0   \n",
       "8446               -12.0               46.0              37.0   \n",
       "8447               -12.0               46.0              37.0   \n",
       "8448               -12.0               46.0              37.0   \n",
       "8449                -8.0               52.0              43.0   \n",
       "\n",
       "      Humidity (%) low  Sea Level Press. (hPa) avg  Visibility (km) avg  \\\n",
       "8445              27.0                      1018.0                 16.0   \n",
       "8446              27.0                      1018.0                 16.0   \n",
       "8447              27.0                      1018.0                 16.0   \n",
       "8448              27.0                      1018.0                 16.0   \n",
       "8449              33.0                      1023.0                 16.0   \n",
       "\n",
       "      Wind (km/h) avg  Event  DayCategory  \n",
       "8445             11.0      1            1  \n",
       "8446             11.0      2            1  \n",
       "8447             11.0     14            1  \n",
       "8448             11.0     15            1  \n",
       "8449             11.0      1            1  \n",
       "\n",
       "[5 rows x 29 columns]"
      ]
     },
     "execution_count": 370,
     "metadata": {},
     "output_type": "execute_result"
    }
   ],
   "source": [
    "dftest.head()"
   ]
  },
  {
   "cell_type": "code",
   "execution_count": 371,
   "metadata": {},
   "outputs": [
    {
     "data": {
      "text/plain": [
       "Index(['Monthly Nominal GDP Index (inMillion$)',\n",
       "       'Monthly Real GDP Index (inMillion$)', 'CPI', 'unemployment rate',\n",
       "       'Finance Rate on Personal Loans at Commercial Banks, 24 Month Loan',\n",
       "       'Earnings or wages  in dollars per hour',\n",
       "       'Cotton Monthly Price - US cents per Pound(lbs)', 'Change(in%)',\n",
       "       'Average upland planted(million acres)',\n",
       "       'Average upland harvested(million acres)', 'yieldperharvested acre',\n",
       "       'Production (in  480-lb netweright in million bales)',\n",
       "       'Mill use  (in  480-lb netweright in million bales)', 'Exports', 'Year',\n",
       "       'Month', 'ProductCategory', 'Sales(In ThousandDollars)', 'Day',\n",
       "       'Temp avg (°C)', 'Dew Point avg (°C)', 'Humidity (%) high',\n",
       "       'Humidity (%) avg', 'Humidity (%) low', 'Sea Level Press. (hPa) avg',\n",
       "       'Visibility (km) avg', 'Wind (km/h) avg', 'Event', 'DayCategory'],\n",
       "      dtype='object')"
      ]
     },
     "execution_count": 371,
     "metadata": {},
     "output_type": "execute_result"
    }
   ],
   "source": [
    "dftest.columns"
   ]
  },
  {
   "cell_type": "code",
   "execution_count": 372,
   "metadata": {},
   "outputs": [],
   "source": [
    "dftest.drop(['Sales(In ThousandDollars)'],axis=1,inplace=True)"
   ]
  },
  {
   "cell_type": "markdown",
   "metadata": {},
   "source": [
    "# model building"
   ]
  },
  {
   "cell_type": "code",
   "execution_count": 373,
   "metadata": {},
   "outputs": [],
   "source": [
    "from sklearn.model_selection import train_test_split\n",
    "from sklearn.linear_model import LinearRegression,Ridge,Lasso\n",
    "from sklearn.metrics import mean_squared_error,mean_absolute_error,r2_score\n",
    "#x_train,x_val,y_train,y_val=train_test_split(dftrain,test_size=0.2,random_state=1)"
   ]
  },
  {
   "cell_type": "code",
   "execution_count": null,
   "metadata": {},
   "outputs": [],
   "source": []
  },
  {
   "cell_type": "code",
   "execution_count": null,
   "metadata": {},
   "outputs": [],
   "source": []
  },
  {
   "cell_type": "code",
   "execution_count": 374,
   "metadata": {},
   "outputs": [
    {
     "data": {
      "text/plain": [
       "339"
      ]
     },
     "execution_count": 374,
     "metadata": {},
     "output_type": "execute_result"
    }
   ],
   "source": [
    "dftrain['Sales(In ThousandDollars)'].isnull().sum()"
   ]
  },
  {
   "cell_type": "code",
   "execution_count": 375,
   "metadata": {},
   "outputs": [],
   "source": [
    "dftrain['Sales(In ThousandDollars)']=dftrain['Sales(In ThousandDollars)'].fillna(method='ffill')"
   ]
  },
  {
   "cell_type": "code",
   "execution_count": 376,
   "metadata": {},
   "outputs": [
    {
     "data": {
      "text/plain": [
       "0"
      ]
     },
     "execution_count": 376,
     "metadata": {},
     "output_type": "execute_result"
    }
   ],
   "source": [
    "dftrain['Sales(In ThousandDollars)'].isnull().sum()"
   ]
  },
  {
   "cell_type": "code",
   "execution_count": 377,
   "metadata": {},
   "outputs": [],
   "source": [
    "x1=dftrain.drop('Sales(In ThousandDollars)',axis=1)\n",
    "y1=dftrain['Sales(In ThousandDollars)']"
   ]
  },
  {
   "cell_type": "code",
   "execution_count": 378,
   "metadata": {},
   "outputs": [],
   "source": [
    "x_train,x_val,y_train,y_val=train_test_split(x1,y1,test_size=0.2,random_state=1)"
   ]
  },
  {
   "cell_type": "code",
   "execution_count": 379,
   "metadata": {},
   "outputs": [],
   "source": [
    "lr=LinearRegression()"
   ]
  },
  {
   "cell_type": "code",
   "execution_count": 380,
   "metadata": {},
   "outputs": [
    {
     "data": {
      "text/plain": [
       "LinearRegression(copy_X=True, fit_intercept=True, n_jobs=None,\n",
       "         normalize=False)"
      ]
     },
     "execution_count": 380,
     "metadata": {},
     "output_type": "execute_result"
    }
   ],
   "source": [
    "lr.fit(x_train,y_train)"
   ]
  },
  {
   "cell_type": "code",
   "execution_count": 381,
   "metadata": {},
   "outputs": [],
   "source": [
    "y_pred = lr.predict(x_val)"
   ]
  },
  {
   "cell_type": "code",
   "execution_count": 382,
   "metadata": {},
   "outputs": [
    {
     "data": {
      "text/plain": [
       "734.515856475886"
      ]
     },
     "execution_count": 382,
     "metadata": {},
     "output_type": "execute_result"
    }
   ],
   "source": [
    "mse=np.sqrt(mean_squared_error(y_val,y_pred))\n",
    "mse"
   ]
  },
  {
   "cell_type": "code",
   "execution_count": 383,
   "metadata": {},
   "outputs": [
    {
     "data": {
      "text/plain": [
       "0.5347574146284899"
      ]
     },
     "execution_count": 383,
     "metadata": {},
     "output_type": "execute_result"
    }
   ],
   "source": [
    "lr.score(x_val,y_val)"
   ]
  },
  {
   "cell_type": "code",
   "execution_count": 384,
   "metadata": {},
   "outputs": [],
   "source": [
    "yprd=lr.predict(dftest)"
   ]
  },
  {
   "cell_type": "code",
   "execution_count": 385,
   "metadata": {},
   "outputs": [
    {
     "data": {
      "text/plain": [
       "array([3140.33820095, 3137.98086553, 3109.69284051, ..., 1821.81662915,\n",
       "       1820.37582955, 1832.60362554])"
      ]
     },
     "execution_count": 385,
     "metadata": {},
     "output_type": "execute_result"
    }
   ],
   "source": [
    "yprd"
   ]
  },
  {
   "cell_type": "code",
   "execution_count": 386,
   "metadata": {},
   "outputs": [
    {
     "data": {
      "text/plain": [
       "1608"
      ]
     },
     "execution_count": 386,
     "metadata": {},
     "output_type": "execute_result"
    }
   ],
   "source": [
    "len(yprd)"
   ]
  },
  {
   "cell_type": "code",
   "execution_count": 387,
   "metadata": {},
   "outputs": [],
   "source": [
    "df1 = pd.DataFrame({\"S.No.\":np.arange(0,1608),\"Sales\":yprd})\n",
    "df1.to_csv(\"submission-ABC.csv\",index = False)\n"
   ]
  },
  {
   "cell_type": "code",
   "execution_count": 388,
   "metadata": {},
   "outputs": [],
   "source": [
    "predict = lr.predict(x_train)"
   ]
  },
  {
   "cell_type": "code",
   "execution_count": 60,
   "metadata": {},
   "outputs": [
    {
     "data": {
      "text/plain": [
       "0.5533030124697949"
      ]
     },
     "execution_count": 60,
     "metadata": {},
     "output_type": "execute_result"
    }
   ],
   "source": [
    "r2_score(y_train,predict)"
   ]
  },
  {
   "cell_type": "code",
   "execution_count": 389,
   "metadata": {},
   "outputs": [],
   "source": [
    "from sklearn import tree"
   ]
  },
  {
   "cell_type": "code",
   "execution_count": 390,
   "metadata": {},
   "outputs": [],
   "source": [
    "param_grid = {'criterion':['mse','mae'],\n",
    "             'min_samples_split':[2,10,20],\n",
    "             'max_depth':[None,2,5,10],\n",
    "             'min_samples_leaf':[1,5,10],\n",
    "             'max_leaf_nodes':[None,5,10,20]}"
   ]
  },
  {
   "cell_type": "markdown",
   "metadata": {},
   "source": [
    "#from sklearn.model_selection import GridSearchCV\n",
    "#dt = tree.DecisionTreeRegressor()\n",
    "##reg = GridSearchCV(dt,param_grid , cv=2)\n",
    "#reg.fit(x_train,y_train)"
   ]
  },
  {
   "cell_type": "markdown",
   "metadata": {},
   "source": [
    "#reg.best_estimator_"
   ]
  },
  {
   "cell_type": "code",
   "execution_count": 65,
   "metadata": {},
   "outputs": [],
   "source": [
    "DT_model = reg.best_estimator_"
   ]
  },
  {
   "cell_type": "code",
   "execution_count": 66,
   "metadata": {},
   "outputs": [],
   "source": [
    "dt_y_pred = DT_model.predict(x_val)"
   ]
  },
  {
   "cell_type": "code",
   "execution_count": 67,
   "metadata": {},
   "outputs": [
    {
     "data": {
      "text/plain": [
       "0.8919914773408968"
      ]
     },
     "execution_count": 67,
     "metadata": {},
     "output_type": "execute_result"
    }
   ],
   "source": [
    "mse2=np.sqrt(mean_squared_error(y_val,dt_y_pred))\n",
    "mse2"
   ]
  },
  {
   "cell_type": "code",
   "execution_count": 68,
   "metadata": {},
   "outputs": [
    {
     "data": {
      "text/plain": [
       "0.999999490496863"
      ]
     },
     "execution_count": 68,
     "metadata": {},
     "output_type": "execute_result"
    }
   ],
   "source": [
    "r2_score(y_val,dt_y_pred)"
   ]
  },
  {
   "cell_type": "code",
   "execution_count": 69,
   "metadata": {},
   "outputs": [],
   "source": [
    "df1 = pd.DataFrame({\"S.No.\":np.arange(1,37),\"Sales\":mse2})\n",
    "df1.to_csv(\"submission-B.csv\",index = False)"
   ]
  },
  {
   "cell_type": "code",
   "execution_count": 70,
   "metadata": {},
   "outputs": [],
   "source": [
    "lambdas = np.linspace (1,100,100)\n",
    "params = {'alpha':lambdas}\n",
    "model = Ridge(fit_intercept = True)"
   ]
  },
  {
   "cell_type": "code",
   "execution_count": 71,
   "metadata": {},
   "outputs": [],
   "source": [
    "Ridge = GridSearchCV(model,param_grid = params , cv = 10, scoring = 'neg_mean_absolute_error')"
   ]
  },
  {
   "cell_type": "code",
   "execution_count": 72,
   "metadata": {},
   "outputs": [
    {
     "data": {
      "text/plain": [
       "GridSearchCV(cv=10, error_score='raise-deprecating',\n",
       "       estimator=Ridge(alpha=1.0, copy_X=True, fit_intercept=True, max_iter=None,\n",
       "   normalize=False, random_state=None, solver='auto', tol=0.001),\n",
       "       fit_params=None, iid='warn', n_jobs=None,\n",
       "       param_grid={'alpha': array([  1.,   2., ...,  99., 100.])},\n",
       "       pre_dispatch='2*n_jobs', refit=True, return_train_score='warn',\n",
       "       scoring='neg_mean_absolute_error', verbose=0)"
      ]
     },
     "execution_count": 72,
     "metadata": {},
     "output_type": "execute_result"
    }
   ],
   "source": [
    "Ridge.fit(x_train,y_train)"
   ]
  },
  {
   "cell_type": "code",
   "execution_count": 73,
   "metadata": {},
   "outputs": [
    {
     "data": {
      "text/plain": [
       "Ridge(alpha=1.0, copy_X=True, fit_intercept=True, max_iter=None,\n",
       "   normalize=False, random_state=None, solver='auto', tol=0.001)"
      ]
     },
     "execution_count": 73,
     "metadata": {},
     "output_type": "execute_result"
    }
   ],
   "source": [
    "Ridge.best_estimator_"
   ]
  },
  {
   "cell_type": "code",
   "execution_count": 74,
   "metadata": {},
   "outputs": [],
   "source": [
    "Ridge_model = Ridge.best_estimator_"
   ]
  },
  {
   "cell_type": "code",
   "execution_count": 75,
   "metadata": {},
   "outputs": [],
   "source": [
    "Ridge_y_pred = Ridge_model.predict(x_val)"
   ]
  },
  {
   "cell_type": "code",
   "execution_count": 76,
   "metadata": {},
   "outputs": [
    {
     "data": {
      "text/plain": [
       "859.254348190587"
      ]
     },
     "execution_count": 76,
     "metadata": {},
     "output_type": "execute_result"
    }
   ],
   "source": [
    "np.sqrt(mean_squared_error(y_val,Ridge_y_pred))"
   ]
  },
  {
   "cell_type": "code",
   "execution_count": 77,
   "metadata": {},
   "outputs": [
    {
     "data": {
      "text/plain": [
       "0.5272092951751617"
      ]
     },
     "execution_count": 77,
     "metadata": {},
     "output_type": "execute_result"
    }
   ],
   "source": [
    "r2_score(y_val,Ridge_y_pred)"
   ]
  },
  {
   "cell_type": "markdown",
   "metadata": {},
   "source": [
    "#from sklearn.neighbors import KNeighborsRegressor"
   ]
  },
  {
   "cell_type": "code",
   "execution_count": 79,
   "metadata": {},
   "outputs": [
    {
     "data": {
      "text/plain": [
       "KNeighborsRegressor(algorithm='auto', leaf_size=30, metric='minkowski',\n",
       "          metric_params=None, n_jobs=None, n_neighbors=5, p=2,\n",
       "          weights='uniform')"
      ]
     },
     "execution_count": 79,
     "metadata": {},
     "output_type": "execute_result"
    }
   ],
   "source": [
    "model = KNeighborsRegressor()\n",
    "model.fit(x_train,y_train)"
   ]
  },
  {
   "cell_type": "code",
   "execution_count": 80,
   "metadata": {},
   "outputs": [],
   "source": [
    "KNN_y_pred = model.predict(x_val)"
   ]
  },
  {
   "cell_type": "code",
   "execution_count": 81,
   "metadata": {},
   "outputs": [
    {
     "data": {
      "text/plain": [
       "-0.021599349603535822"
      ]
     },
     "execution_count": 81,
     "metadata": {},
     "output_type": "execute_result"
    }
   ],
   "source": [
    "r2_score(y_val,KNN_y_pred)"
   ]
  },
  {
   "cell_type": "code",
   "execution_count": 82,
   "metadata": {},
   "outputs": [],
   "source": [
    "params = np.arange(1,101,10)\n",
    "\n",
    "param_grid = {'n_neighbors':params,\n",
    "             'metric':['minkowski','manhattan','euclidean']}\n"
   ]
  },
  {
   "cell_type": "code",
   "execution_count": 83,
   "metadata": {},
   "outputs": [
    {
     "data": {
      "text/plain": [
       "GridSearchCV(cv=2, error_score='raise-deprecating',\n",
       "       estimator=KNeighborsRegressor(algorithm='auto', leaf_size=30, metric='minkowski',\n",
       "          metric_params=None, n_jobs=None, n_neighbors=5, p=2,\n",
       "          weights='uniform'),\n",
       "       fit_params=None, iid='warn', n_jobs=None,\n",
       "       param_grid={'n_neighbors': array([ 1, 11, 21, 31, 41, 51, 61, 71, 81, 91]), 'metric': ['minkowski', 'manhattan', 'euclidean']},\n",
       "       pre_dispatch='2*n_jobs', refit=True, return_train_score='warn',\n",
       "       scoring=None, verbose=0)"
      ]
     },
     "execution_count": 83,
     "metadata": {},
     "output_type": "execute_result"
    }
   ],
   "source": [
    "reg = GridSearchCV(model,param_grid , cv=2)\n",
    "reg.fit(x_train,y_train)"
   ]
  },
  {
   "cell_type": "code",
   "execution_count": 84,
   "metadata": {},
   "outputs": [],
   "source": [
    "model = reg.best_estimator_"
   ]
  },
  {
   "cell_type": "code",
   "execution_count": 85,
   "metadata": {},
   "outputs": [
    {
     "data": {
      "text/plain": [
       "KNeighborsRegressor(algorithm='auto', leaf_size=30, metric='manhattan',\n",
       "          metric_params=None, n_jobs=None, n_neighbors=31, p=2,\n",
       "          weights='uniform')"
      ]
     },
     "execution_count": 85,
     "metadata": {},
     "output_type": "execute_result"
    }
   ],
   "source": [
    "model.fit(x_train,y_train)"
   ]
  },
  {
   "cell_type": "code",
   "execution_count": 86,
   "metadata": {},
   "outputs": [],
   "source": [
    "KNN_y_pred = model.predict(x_val)"
   ]
  },
  {
   "cell_type": "code",
   "execution_count": 87,
   "metadata": {},
   "outputs": [
    {
     "data": {
      "text/plain": [
       "0.11908735487374689"
      ]
     },
     "execution_count": 87,
     "metadata": {},
     "output_type": "execute_result"
    }
   ],
   "source": [
    "r2_score(y_val,KNN_y_pred)"
   ]
  },
  {
   "cell_type": "markdown",
   "metadata": {},
   "source": [
    "#from sklearn.ensemble import AdaBoostRegressor\n",
    "#ada = AdaBoostRegressor()"
   ]
  },
  {
   "cell_type": "code",
   "execution_count": 278,
   "metadata": {},
   "outputs": [
    {
     "data": {
      "text/plain": [
       "1689"
      ]
     },
     "execution_count": 278,
     "metadata": {},
     "output_type": "execute_result"
    }
   ],
   "source": [
    "ada.fit(x_train,y_train)\n",
    "ada_pred = ada.predict(x_val)\n",
    "len(ada_pred)"
   ]
  },
  {
   "cell_type": "code",
   "execution_count": 279,
   "metadata": {},
   "outputs": [
    {
     "data": {
      "text/plain": [
       "0.9469549263806429"
      ]
     },
     "execution_count": 279,
     "metadata": {},
     "output_type": "execute_result"
    }
   ],
   "source": [
    "r2_score(y_val,ada_pred)"
   ]
  },
  {
   "cell_type": "code",
   "execution_count": 280,
   "metadata": {},
   "outputs": [
    {
     "data": {
      "text/plain": [
       "248.01844121255806"
      ]
     },
     "execution_count": 280,
     "metadata": {},
     "output_type": "execute_result"
    }
   ],
   "source": [
    "RMSE=np.sqrt(mean_squared_error(y_val,ada_pred))\n",
    "RMSE"
   ]
  },
  {
   "cell_type": "code",
   "execution_count": 281,
   "metadata": {},
   "outputs": [],
   "source": [
    "ad_prd=ada.predict(dftest)"
   ]
  },
  {
   "cell_type": "code",
   "execution_count": 295,
   "metadata": {},
   "outputs": [
    {
     "data": {
      "text/plain": [
       "array([4061.49242424, 4061.49242424, 4061.49242424, ..., 1039.63517915,\n",
       "       1039.63517915, 1039.63517915])"
      ]
     },
     "execution_count": 295,
     "metadata": {},
     "output_type": "execute_result"
    }
   ],
   "source": [
    "ad_prd"
   ]
  },
  {
   "cell_type": "code",
   "execution_count": 282,
   "metadata": {},
   "outputs": [
    {
     "data": {
      "text/plain": [
       "1608"
      ]
     },
     "execution_count": 282,
     "metadata": {},
     "output_type": "execute_result"
    }
   ],
   "source": [
    "len(ad_prd)"
   ]
  },
  {
   "cell_type": "code",
   "execution_count": 285,
   "metadata": {},
   "outputs": [],
   "source": [
    "df1 = pd.DataFrame({\"S.No.\":np.arange(0,1608),\"Sales\":ad_prd})\n",
    "df1.to_csv(\"submission-AA.csv\",index = False)"
   ]
  },
  {
   "cell_type": "code",
   "execution_count": 94,
   "metadata": {},
   "outputs": [],
   "source": [
    "#from sklearn.decomposition import PCA"
   ]
  },
  {
   "cell_type": "code",
   "execution_count": 96,
   "metadata": {},
   "outputs": [],
   "source": [
    "#X_centered = x_train - x_train.mean(axis=0)"
   ]
  },
  {
   "cell_type": "code",
   "execution_count": 97,
   "metadata": {},
   "outputs": [
    {
     "data": {
      "text/plain": [
       "PCA(copy=True, iterated_power='auto', n_components=2, random_state=None,\n",
       "  svd_solver='auto', tol=0.0, whiten=False)"
      ]
     },
     "execution_count": 97,
     "metadata": {},
     "output_type": "execute_result"
    }
   ],
   "source": [
    "#pca = PCA(n_components=2)\n",
    "#pca.fit(X_centered)"
   ]
  },
  {
   "cell_type": "code",
   "execution_count": 98,
   "metadata": {},
   "outputs": [],
   "source": [
    "#X_pca = pca.transform(X_centered)"
   ]
  },
  {
   "cell_type": "code",
   "execution_count": 99,
   "metadata": {},
   "outputs": [
    {
     "data": {
      "text/plain": [
       "(5145, 2)"
      ]
     },
     "execution_count": 99,
     "metadata": {},
     "output_type": "execute_result"
    }
   ],
   "source": [
    "#X_pca.shape"
   ]
  },
  {
   "cell_type": "code",
   "execution_count": 103,
   "metadata": {},
   "outputs": [],
   "source": [
    "#X_centere = x_train - x_val.mean(axis=0)"
   ]
  },
  {
   "cell_type": "code",
   "execution_count": 104,
   "metadata": {},
   "outputs": [
    {
     "data": {
      "text/plain": [
       "PCA(copy=True, iterated_power='auto', n_components=2, random_state=None,\n",
       "  svd_solver='auto', tol=0.0, whiten=False)"
      ]
     },
     "execution_count": 104,
     "metadata": {},
     "output_type": "execute_result"
    }
   ],
   "source": [
    "#pca = PCA(n_components=2)\n",
    "#pca.fit(X_centere)"
   ]
  },
  {
   "cell_type": "code",
   "execution_count": 105,
   "metadata": {},
   "outputs": [],
   "source": [
    "#X_Pca = pca.transform(X_centered)"
   ]
  },
  {
   "cell_type": "code",
   "execution_count": 106,
   "metadata": {},
   "outputs": [
    {
     "data": {
      "text/plain": [
       "(5145, 2)"
      ]
     },
     "execution_count": 106,
     "metadata": {},
     "output_type": "execute_result"
    }
   ],
   "source": [
    "#X_Pca.shape"
   ]
  },
  {
   "cell_type": "code",
   "execution_count": 259,
   "metadata": {},
   "outputs": [],
   "source": [
    "#DT_model = reg.best_estimator_"
   ]
  },
  {
   "cell_type": "code",
   "execution_count": 260,
   "metadata": {},
   "outputs": [],
   "source": [
    "#reg = GridSearchCV(dt,param_grid , cv=2)\n",
    "#reg.fit(X_pca,y_train)"
   ]
  },
  {
   "cell_type": "code",
   "execution_count": 261,
   "metadata": {},
   "outputs": [],
   "source": [
    "import numpy as np\n"
   ]
  },
  {
   "cell_type": "code",
   "execution_count": 401,
   "metadata": {},
   "outputs": [],
   "source": [
    "from sklearn.model_selection import GridSearchCV"
   ]
  },
  {
   "cell_type": "code",
   "execution_count": 402,
   "metadata": {},
   "outputs": [],
   "source": [
    "lambdas = np.linspace (1,100,100)\n",
    "params = {'alpha':lambdas}\n",
    "model = Ridge(fit_intercept = True)"
   ]
  },
  {
   "cell_type": "code",
   "execution_count": 403,
   "metadata": {},
   "outputs": [],
   "source": [
    "Ridge = GridSearchCV(model,param_grid = params , cv = 10, scoring = 'neg_mean_absolute_error')"
   ]
  },
  {
   "cell_type": "code",
   "execution_count": 404,
   "metadata": {},
   "outputs": [
    {
     "data": {
      "text/plain": [
       "GridSearchCV(cv=10, error_score='raise-deprecating',\n",
       "       estimator=Ridge(alpha=1.0, copy_X=True, fit_intercept=True, max_iter=None,\n",
       "   normalize=False, random_state=None, solver='auto', tol=0.001),\n",
       "       fit_params=None, iid='warn', n_jobs=None,\n",
       "       param_grid={'alpha': array([  1.,   2., ...,  99., 100.])},\n",
       "       pre_dispatch='2*n_jobs', refit=True, return_train_score='warn',\n",
       "       scoring='neg_mean_absolute_error', verbose=0)"
      ]
     },
     "execution_count": 404,
     "metadata": {},
     "output_type": "execute_result"
    }
   ],
   "source": [
    "Ridge.fit(x_train,y_train)"
   ]
  },
  {
   "cell_type": "code",
   "execution_count": 405,
   "metadata": {},
   "outputs": [
    {
     "data": {
      "text/plain": [
       "Ridge(alpha=1.0, copy_X=True, fit_intercept=True, max_iter=None,\n",
       "   normalize=False, random_state=None, solver='auto', tol=0.001)"
      ]
     },
     "execution_count": 405,
     "metadata": {},
     "output_type": "execute_result"
    }
   ],
   "source": [
    "Ridge.best_estimator_"
   ]
  },
  {
   "cell_type": "code",
   "execution_count": 406,
   "metadata": {},
   "outputs": [],
   "source": [
    "Ridge_model = Ridge.best_estimator_"
   ]
  },
  {
   "cell_type": "code",
   "execution_count": 407,
   "metadata": {},
   "outputs": [],
   "source": [
    "Ridge_y_pred = Ridge_model.predict(x_val)"
   ]
  },
  {
   "cell_type": "code",
   "execution_count": 408,
   "metadata": {},
   "outputs": [
    {
     "data": {
      "text/plain": [
       "734.7873532447429"
      ]
     },
     "execution_count": 408,
     "metadata": {},
     "output_type": "execute_result"
    }
   ],
   "source": [
    "np.sqrt(mean_squared_error(y_val,Ridge_y_pred))"
   ]
  },
  {
   "cell_type": "code",
   "execution_count": 409,
   "metadata": {},
   "outputs": [
    {
     "data": {
      "text/plain": [
       "0.534413418779591"
      ]
     },
     "execution_count": 409,
     "metadata": {},
     "output_type": "execute_result"
    }
   ],
   "source": [
    "r2_score(y_val,Ridge_y_pred)"
   ]
  },
  {
   "cell_type": "code",
   "execution_count": 410,
   "metadata": {},
   "outputs": [
    {
     "data": {
      "text/plain": [
       "array([3121.25847895, 3118.91601561, 3090.80645554, ..., 1813.48864442,\n",
       "       1812.31726114, 1823.66339175])"
      ]
     },
     "execution_count": 410,
     "metadata": {},
     "output_type": "execute_result"
    }
   ],
   "source": [
    "R_y_pred = Ridge_model.predict(dftest)\n",
    "R_y_pred"
   ]
  },
  {
   "cell_type": "code",
   "execution_count": 411,
   "metadata": {},
   "outputs": [
    {
     "data": {
      "text/plain": [
       "1608"
      ]
     },
     "execution_count": 411,
     "metadata": {},
     "output_type": "execute_result"
    }
   ],
   "source": [
    "len(R_y_pred)"
   ]
  },
  {
   "cell_type": "code",
   "execution_count": 413,
   "metadata": {},
   "outputs": [],
   "source": [
    "df1 = pd.DataFrame({\"S.No.\":np.arange(0,1608),\"Sales\":R_y_pred})\n",
    "df1.to_csv(\"submission-AVC.csv\",index = False)"
   ]
  },
  {
   "cell_type": "code",
   "execution_count": 395,
   "metadata": {},
   "outputs": [],
   "source": [
    "from sklearn.ensemble import RandomForestRegressor"
   ]
  },
  {
   "cell_type": "code",
   "execution_count": 396,
   "metadata": {},
   "outputs": [],
   "source": [
    "rf = RandomForestRegressor()"
   ]
  },
  {
   "cell_type": "code",
   "execution_count": 397,
   "metadata": {},
   "outputs": [],
   "source": [
    "rf.fit(x_train,y_train)\n",
    "test_pred = rf.predict(x_val)"
   ]
  },
  {
   "cell_type": "code",
   "execution_count": 398,
   "metadata": {},
   "outputs": [
    {
     "data": {
      "text/plain": [
       "0.9999999950781939"
      ]
     },
     "execution_count": 398,
     "metadata": {},
     "output_type": "execute_result"
    }
   ],
   "source": [
    "r2_score(y_val,test_pred)"
   ]
  },
  {
   "cell_type": "code",
   "execution_count": 399,
   "metadata": {},
   "outputs": [],
   "source": [
    "t_pred = rf.predict(dftest)"
   ]
  },
  {
   "cell_type": "code",
   "execution_count": 400,
   "metadata": {},
   "outputs": [
    {
     "data": {
      "text/plain": [
       "array([4457. , 4457. , 4463. , ..., 1063.5, 1063.5, 1063.5])"
      ]
     },
     "execution_count": 400,
     "metadata": {},
     "output_type": "execute_result"
    }
   ],
   "source": [
    "t_pred"
   ]
  },
  {
   "cell_type": "code",
   "execution_count": 297,
   "metadata": {},
   "outputs": [],
   "source": [
    "df1 = pd.DataFrame({\"S.No.\":np.arange(0,1608),\"Sales\":t_pred})\n",
    "df1.to_csv(\"submission-AE.csv\",index = False)"
   ]
  },
  {
   "cell_type": "code",
   "execution_count": 414,
   "metadata": {},
   "outputs": [],
   "source": [
    "from sklearn.ensemble import GradientBoostingRegressor"
   ]
  },
  {
   "cell_type": "code",
   "execution_count": 415,
   "metadata": {},
   "outputs": [],
   "source": [
    "GB = GradientBoostingRegressor()"
   ]
  },
  {
   "cell_type": "code",
   "execution_count": 416,
   "metadata": {},
   "outputs": [],
   "source": [
    "GB.fit(x_train,y_train)\n",
    "pred = GB.predict(x_val)"
   ]
  },
  {
   "cell_type": "code",
   "execution_count": 417,
   "metadata": {},
   "outputs": [
    {
     "data": {
      "text/plain": [
       "0.9936933575854028"
      ]
     },
     "execution_count": 417,
     "metadata": {},
     "output_type": "execute_result"
    }
   ],
   "source": [
    "r2_score(y_val,pred)"
   ]
  },
  {
   "cell_type": "code",
   "execution_count": 418,
   "metadata": {},
   "outputs": [],
   "source": [
    "predi=GB.predict(dftest)"
   ]
  },
  {
   "cell_type": "code",
   "execution_count": 419,
   "metadata": {},
   "outputs": [
    {
     "data": {
      "text/plain": [
       "array([3954.51794495, 3954.51794495, 3938.84467742, ...,  978.22039753,\n",
       "        978.22039753,  978.22039753])"
      ]
     },
     "execution_count": 419,
     "metadata": {},
     "output_type": "execute_result"
    }
   ],
   "source": [
    "predi"
   ]
  },
  {
   "cell_type": "code",
   "execution_count": 420,
   "metadata": {},
   "outputs": [],
   "source": [
    "df1 = pd.DataFrame({\"S.No.\":np.arange(0,1608),\"Sales\":predi})\n",
    "df1.to_csv(\"submission-AE.csv\",index = False)"
   ]
  },
  {
   "cell_type": "code",
   "execution_count": null,
   "metadata": {},
   "outputs": [],
   "source": []
  }
 ],
 "metadata": {
  "kernelspec": {
   "display_name": "Python 3",
   "language": "python",
   "name": "python3"
  },
  "language_info": {
   "codemirror_mode": {
    "name": "ipython",
    "version": 3
   },
   "file_extension": ".py",
   "mimetype": "text/x-python",
   "name": "python",
   "nbconvert_exporter": "python",
   "pygments_lexer": "ipython3",
   "version": "3.7.3"
  },
  "toc": {
   "base_numbering": 1,
   "nav_menu": {},
   "number_sections": true,
   "sideBar": true,
   "skip_h1_title": false,
   "title_cell": "Table of Contents",
   "title_sidebar": "Contents",
   "toc_cell": false,
   "toc_position": {},
   "toc_section_display": true,
   "toc_window_display": false
  }
 },
 "nbformat": 4,
 "nbformat_minor": 2
}
